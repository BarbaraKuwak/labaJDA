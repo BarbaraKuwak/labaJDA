{
 "cells": [
  {
   "cell_type": "code",
   "execution_count": 1,
   "id": "c1d819ce-6199-488b-b068-c5a0295677a5",
   "metadata": {},
   "outputs": [],
   "source": [
    "x = 5"
   ]
  },
  {
   "cell_type": "code",
   "execution_count": 2,
   "id": "4fda5bbc-fce9-4730-af3f-54056695f07a",
   "metadata": {},
   "outputs": [
    {
     "name": "stdout",
     "output_type": "stream",
     "text": [
      "5\n"
     ]
    }
   ],
   "source": [
    "print(x)"
   ]
  },
  {
   "cell_type": "code",
   "execution_count": 5,
   "id": "d436b71f-7503-4ac5-a347-ad7536291a46",
   "metadata": {},
   "outputs": [
    {
     "name": "stdout",
     "output_type": "stream",
     "text": [
      "1\n"
     ]
    }
   ],
   "source": [
    "y = 1\n",
    "print(y)"
   ]
  },
  {
   "cell_type": "code",
   "execution_count": 6,
   "id": "ae7355a1-9453-4b3d-baeb-a7ec473c11fd",
   "metadata": {},
   "outputs": [
    {
     "name": "stdout",
     "output_type": "stream",
     "text": [
      "2\n"
     ]
    }
   ],
   "source": [
    "x = 2 \n",
    "print(x)"
   ]
  },
  {
   "cell_type": "code",
   "execution_count": 8,
   "id": "0723d860-9e40-412f-839a-8e78154e4c66",
   "metadata": {},
   "outputs": [
    {
     "name": "stdout",
     "output_type": "stream",
     "text": [
      "Requirement already satisfied: polars in c:\\users\\barba\\anaconda3\\lib\\site-packages (1.35.1)\n",
      "Requirement already satisfied: polars-runtime-32==1.35.1 in c:\\users\\barba\\anaconda3\\lib\\site-packages (from polars) (1.35.1)\n"
     ]
    }
   ],
   "source": [
    "!pip install polars"
   ]
  },
  {
   "cell_type": "code",
   "execution_count": 11,
   "id": "508f14de-bdbd-4d57-afe0-3bcef26c2fdd",
   "metadata": {},
   "outputs": [
    {
     "name": "stdout",
     "output_type": "stream",
     "text": [
      "Help on built-in function print in module builtins:\n",
      "\n",
      "print(*args, sep=' ', end='\\n', file=None, flush=False)\n",
      "    Prints the values to a stream, or to sys.stdout by default.\n",
      "\n",
      "    sep\n",
      "      string inserted between values, default a space.\n",
      "    end\n",
      "      string appended after the last value, default a newline.\n",
      "    file\n",
      "      a file-like object (stream); defaults to the current sys.stdout.\n",
      "    flush\n",
      "      whether to forcibly flush the stream.\n",
      "\n"
     ]
    }
   ],
   "source": [
    "help(print)"
   ]
  },
  {
   "cell_type": "code",
   "execution_count": 12,
   "id": "6e24774d-4251-4b8b-8862-e858c5ae21ea",
   "metadata": {},
   "outputs": [
    {
     "name": "stdout",
     "output_type": "stream",
     "text": [
      "13\n",
      "3\n",
      "40\n",
      "1.6\n",
      "1\n",
      "3\n",
      "32768\n"
     ]
    }
   ],
   "source": [
    "x = 8\n",
    "y = 5\n",
    "print(x + y) # dodawanie\n",
    "print(x - y) # odejmowanie\n",
    "print(x * y) # mnożenie\n",
    "print(x / y) # dzielenie\n",
    "print(x // y) # dzielenie bez reszty\n",
    "print(x % y) # reszta z dzielenia\n",
    "print(x ** y) # potęgowanie"
   ]
  },
  {
   "cell_type": "code",
   "execution_count": null,
   "id": "cc7a991a-b24c-4f21-b461-4882e40683e5",
   "metadata": {},
   "outputs": [],
   "source": [
    "Podstawowe operacje na tekstach\n",
    "Ćwiczenie:\n",
    "\n",
    "Połącz stringi \"spam\", \"bacon\" i \"eggs\" w jedną zmienną text.\n",
    "Zamień wszystkie litery w zmiennej na wielkie.\n",
    "\n",
    "Sprawdź czy \"PUMBA\" jest w zmiennej."
   ]
  },
  {
   "cell_type": "code",
   "execution_count": 16,
   "id": "20c518ac-86d5-4202-98ac-40e1aba398ad",
   "metadata": {},
   "outputs": [],
   "source": [
    "spam = \"spam\"\n",
    "bacon = \"bacon\"\n",
    "eggs = \"eggs\"\n",
    "text = spam + bacon + eggs"
   ]
  },
  {
   "cell_type": "code",
   "execution_count": 17,
   "id": "65cdcbb6-c1cf-45ed-9c9d-e532d827601e",
   "metadata": {},
   "outputs": [
    {
     "name": "stdout",
     "output_type": "stream",
     "text": [
      "spambaconeggs\n"
     ]
    }
   ],
   "source": [
    "print(text)"
   ]
  },
  {
   "cell_type": "code",
   "execution_count": 18,
   "id": "ca330b79-425c-4ec6-bc5e-8fbf74fa52f0",
   "metadata": {},
   "outputs": [
    {
     "data": {
      "text/plain": [
       "'SPAMBACONEGGS'"
      ]
     },
     "execution_count": 18,
     "metadata": {},
     "output_type": "execute_result"
    }
   ],
   "source": [
    "text.upper()"
   ]
  },
  {
   "cell_type": "code",
   "execution_count": 19,
   "id": "e47431b2-58ad-44f0-94b2-e8af4c984ebf",
   "metadata": {},
   "outputs": [
    {
     "data": {
      "text/plain": [
       "'spambaconeggs'"
      ]
     },
     "execution_count": 19,
     "metadata": {},
     "output_type": "execute_result"
    }
   ],
   "source": [
    "text.upper()\n",
    "text.lower()"
   ]
  },
  {
   "cell_type": "code",
   "execution_count": 20,
   "id": "3fda40ed-b233-426e-a9b2-6c51d3b163b7",
   "metadata": {},
   "outputs": [
    {
     "name": "stdout",
     "output_type": "stream",
     "text": [
      "spambaconeggs\n"
     ]
    }
   ],
   "source": [
    "text.upper()\n",
    "text.lower()\n",
    "print(text)"
   ]
  },
  {
   "cell_type": "code",
   "execution_count": 22,
   "id": "41bd774b-f727-48a2-b8c5-302752016881",
   "metadata": {},
   "outputs": [
    {
     "name": "stdout",
     "output_type": "stream",
     "text": [
      "SPAMBACONEGGS\n",
      "spambaconeggs\n",
      "spambaconeggs\n"
     ]
    }
   ],
   "source": [
    "print(text.upper())\n",
    "print(text.lower())\n",
    "print(text)"
   ]
  },
  {
   "cell_type": "code",
   "execution_count": 23,
   "id": "c3c84853-eade-4727-ba69-3dcd710755ce",
   "metadata": {},
   "outputs": [
    {
     "name": "stdout",
     "output_type": "stream",
     "text": [
      "SPAMBACONEGGS\n"
     ]
    }
   ],
   "source": [
    "text = text.upper()\n",
    "print(text)"
   ]
  },
  {
   "cell_type": "code",
   "execution_count": 25,
   "id": "508be1af-6d40-4495-af23-4dbd9d82e1d7",
   "metadata": {},
   "outputs": [
    {
     "name": "stdout",
     "output_type": "stream",
     "text": [
      "SPAMBACONEGGS\n",
      "False\n"
     ]
    }
   ],
   "source": [
    "text = text.upper()\n",
    "print(text)\n",
    "\n",
    "print(\"PUMBA\" in text)"
   ]
  },
  {
   "cell_type": "code",
   "execution_count": 26,
   "id": "45c4f324-9328-4903-9ef8-2e26247ad46f",
   "metadata": {},
   "outputs": [
    {
     "name": "stdout",
     "output_type": "stream",
     "text": [
      "True\n"
     ]
    }
   ],
   "source": [
    "A = 31\n",
    "B = 27\n",
    "C = 27\n",
    "\n",
    "print(A > B) # A większe niż B"
   ]
  },
  {
   "cell_type": "code",
   "execution_count": 27,
   "id": "169287f0-db67-47e4-89ab-dfc9967a6fa4",
   "metadata": {},
   "outputs": [
    {
     "name": "stdout",
     "output_type": "stream",
     "text": [
      "False\n"
     ]
    }
   ],
   "source": [
    "A = 31\n",
    "B = 27\n",
    "C = 27\n",
    "\n",
    "print(A < B) # A mniejsze niż B"
   ]
  },
  {
   "cell_type": "code",
   "execution_count": 28,
   "id": "0870e1c1-6172-4517-86b6-6d97ec51aeef",
   "metadata": {},
   "outputs": [
    {
     "name": "stdout",
     "output_type": "stream",
     "text": [
      "False\n"
     ]
    }
   ],
   "source": [
    "A = 31\n",
    "B = 27\n",
    "C = 27\n",
    "\n",
    "print(A == B) # A równe B"
   ]
  },
  {
   "cell_type": "code",
   "execution_count": 29,
   "id": "2c977226-fb33-45f6-98b8-2ff87065f143",
   "metadata": {},
   "outputs": [
    {
     "name": "stdout",
     "output_type": "stream",
     "text": [
      "True\n"
     ]
    }
   ],
   "source": [
    "A = 31\n",
    "B = 27\n",
    "C = 27\n",
    "\n",
    "print(A != C) # A nierówne C"
   ]
  },
  {
   "cell_type": "code",
   "execution_count": 30,
   "id": "a23fe9a6-31e7-4530-bfef-2d078b492cf0",
   "metadata": {},
   "outputs": [
    {
     "name": "stdout",
     "output_type": "stream",
     "text": [
      "True\n"
     ]
    }
   ],
   "source": [
    "A = 31\n",
    "B = 27\n",
    "C = 27\n",
    "\n",
    "print(B >= C) # B większe równe C"
   ]
  },
  {
   "cell_type": "code",
   "execution_count": 33,
   "id": "8d058245-3f35-4bc6-a748-bf68a364fb08",
   "metadata": {},
   "outputs": [
    {
     "name": "stdout",
     "output_type": "stream",
     "text": [
      "True\n"
     ]
    }
   ],
   "source": [
    "#print(True and False)\n",
    "#print(True or False)\n",
    "print(not False)\n",
    "#print((10 > 5) and (5 < 2))\n",
    "#print((10 > 5) or (5 < 2))"
   ]
  },
  {
   "cell_type": "code",
   "execution_count": 34,
   "id": "e60952d1-b3ff-4ebf-bac1-87912d8bab09",
   "metadata": {},
   "outputs": [
    {
     "name": "stdout",
     "output_type": "stream",
     "text": [
      "False\n"
     ]
    }
   ],
   "source": [
    "print(True and False)\n",
    "#print(True or False)\n",
    "#print(not False)\n",
    "#print((10 > 5) and (5 < 2))\n",
    "#print((10 > 5) or (5 < 2))"
   ]
  },
  {
   "cell_type": "code",
   "execution_count": 36,
   "id": "20937a61-595a-476d-8aa9-d3ad4a1675a6",
   "metadata": {},
   "outputs": [
    {
     "name": "stdout",
     "output_type": "stream",
     "text": [
      "False\n",
      "False\n"
     ]
    }
   ],
   "source": [
    "print(True and False)\n",
    "#print(True or False)\n",
    "#print(not False)\n",
    "#print((10 > 5) and (5 < 2))\n",
    "print((10 > 5) and (5 < 2))"
   ]
  },
  {
   "cell_type": "code",
   "execution_count": 38,
   "id": "4d76b1be-4402-448d-8cd7-00d49c9c0082",
   "metadata": {},
   "outputs": [
    {
     "name": "stdout",
     "output_type": "stream",
     "text": [
      "True\n",
      "True\n"
     ]
    }
   ],
   "source": [
    "#print(True and False)\n",
    "print(True or False)\n",
    "#print(not False)\n",
    "#print((10 > 5) and (5 < 2))\n",
    "print((10 > 5) or (5 < 2))"
   ]
  },
  {
   "cell_type": "code",
   "execution_count": 39,
   "id": "3a739362-819b-4510-bfde-1de114c68acd",
   "metadata": {},
   "outputs": [
    {
     "name": "stdout",
     "output_type": "stream",
     "text": [
      "10\n"
     ]
    }
   ],
   "source": [
    "x = 10\n",
    "#x += 5 # dodaj 5 i przypisz\n",
    "#x -= 2 # odejmij 2 i przypisz\n",
    "#x *= 3 # pomnóż przez 3 i przypisz\n",
    "#x /= 2 # podziel przez 2 i przypisz\n",
    "print(x)"
   ]
  },
  {
   "cell_type": "code",
   "execution_count": 41,
   "id": "0389214a-7163-437b-b887-7d064d49b5ac",
   "metadata": {},
   "outputs": [
    {
     "name": "stdout",
     "output_type": "stream",
     "text": [
      "15\n"
     ]
    }
   ],
   "source": [
    "x = 10\n",
    "x = x + 5 # dodaj 5 i przypisz\n",
    "#x -= 2 # odejmij 2 i przypisz\n",
    "#x *= 3 # pomnóż przez 3 i przypisz\n",
    "#x /= 2 # podziel przez 2 i przypisz\n",
    "print(x)"
   ]
  },
  {
   "cell_type": "code",
   "execution_count": 43,
   "id": "8214b109-1ac6-47d3-a700-a2f65a0ca981",
   "metadata": {},
   "outputs": [
    {
     "name": "stdout",
     "output_type": "stream",
     "text": [
      "15\n"
     ]
    }
   ],
   "source": [
    "# TO SAMO INACZEJ ZAPISANE\n",
    "x = 10\n",
    "x += 5 # dodaj 5 i przypisz\n",
    "#x -= 2 # odejmij 2 i przypisz\n",
    "#x *= 3 # pomnóż przez 3 i przypisz\n",
    "#x /= 2 # podziel przez 2 i przypisz\n",
    "print(x)"
   ]
  },
  {
   "cell_type": "code",
   "execution_count": 57,
   "id": "b86b7029-0431-40ed-b0a4-b60dd9aa029b",
   "metadata": {},
   "outputs": [
    {
     "name": "stdout",
     "output_type": "stream",
     "text": [
      "85\n"
     ]
    }
   ],
   "source": [
    "#x = 10 # JZELI TO JEST NIEAKTYWNE TO DO X DODAJE NAM SIE 5 PO KAZDYM NACISNIECIU CTR+ENTER I ZWIEKSZA NAM SIE KOLEJNOSC LITERACJI (LEWY GORNY ROG)\n",
    "x = x + 5 # dodaj 5 i przypisz\n",
    "#x -= 2 # odejmij 2 i przypisz\n",
    "#x *= 3 # pomnóż przez 3 i przypisz\n",
    "#x /= 2 # podziel przez 2 i przypisz\n",
    "print(x)"
   ]
  },
  {
   "cell_type": "code",
   "execution_count": 59,
   "id": "602f1b2d-44a2-484e-b1ff-365018baa3a7",
   "metadata": {},
   "outputs": [
    {
     "name": "stdout",
     "output_type": "stream",
     "text": [
      "13\n"
     ]
    }
   ],
   "source": [
    "x = 10\n",
    "x += 5 # dodaj 5 i przypisz\n",
    "x -= 2 # odejmij 2 i przypisz MOZE TEZ BYC X = X - 2\n",
    "#x *= 3 # pomnóż przez 3 i przypisz\n",
    "#x /= 2 # podziel przez 2 i przypisz\n",
    "print(x)"
   ]
  },
  {
   "cell_type": "code",
   "execution_count": 63,
   "id": "37125586-c516-4fa9-a454-0667b5c16064",
   "metadata": {},
   "outputs": [
    {
     "name": "stdout",
     "output_type": "stream",
     "text": [
      "8\n"
     ]
    }
   ],
   "source": [
    "x = 10\n",
    "#x += 5 # dodaj 5 i przypisz\n",
    "x -= 2 # odejmij 2 i przypisz MOZE TEZ BYC X = X - 2\n",
    "#x *= 3 # pomnóż przez 3 i przypisz\n",
    "#x /= 2 # podziel przez 2 i przypisz\n",
    "print(x)"
   ]
  },
  {
   "cell_type": "code",
   "execution_count": 61,
   "id": "f5a05934-c616-4fa0-82fa-ff5133cea18c",
   "metadata": {},
   "outputs": [
    {
     "name": "stdout",
     "output_type": "stream",
     "text": [
      "30\n"
     ]
    }
   ],
   "source": [
    "x = 10\n",
    "#x += 5 # dodaj 5 i przypisz\n",
    "#x -= 2 # odejmij 2 i przypisz MOZE TEZ BYC X = X - 2\n",
    "x *= 3 # pomnóż przez 3 i przypisz\n",
    "#x /= 2 # podziel przez 2 i przypisz\n",
    "print(x)"
   ]
  },
  {
   "cell_type": "code",
   "execution_count": 64,
   "id": "10010d25-8808-4fe9-a35b-a18ee307ab5b",
   "metadata": {},
   "outputs": [
    {
     "name": "stdout",
     "output_type": "stream",
     "text": [
      "39\n"
     ]
    }
   ],
   "source": [
    "x = 10\n",
    "x += 5 # dodaj 5 i przypisz\n",
    "x -= 2 # odejmij 2 i przypisz MOZE TEZ BYC X = X - 2\n",
    "x *= 3 # pomnóż przez 3 i przypisz\n",
    "#x /= 2 # podziel przez 2 i przypisz\n",
    "print(x)"
   ]
  },
  {
   "cell_type": "code",
   "execution_count": 65,
   "id": "253c336b-edde-4888-b926-af6f64f6a9ec",
   "metadata": {},
   "outputs": [
    {
     "name": "stdout",
     "output_type": "stream",
     "text": [
      "19.5\n"
     ]
    }
   ],
   "source": [
    "x = 10\n",
    "x += 5 # dodaj 5 i przypisz\n",
    "x -= 2 # odejmij 2 i przypisz MOZE TEZ BYC X = X - 2\n",
    "x *= 3 # pomnóż przez 3 i przypisz\n",
    "x /= 2 # podziel przez 2 i przypisz\n",
    "print(x)"
   ]
  },
  {
   "cell_type": "code",
   "execution_count": 62,
   "id": "82effed8-fc43-4e6e-ba3b-f0386cadd7e3",
   "metadata": {},
   "outputs": [
    {
     "name": "stdout",
     "output_type": "stream",
     "text": [
      "5.0\n"
     ]
    }
   ],
   "source": [
    "x = 10\n",
    "#x += 5 # dodaj 5 i przypisz\n",
    "#x -= 2 # odejmij 2 i przypisz MOZE TEZ BYC X = X - 2\n",
    "#x *= 3 # pomnóż przez 3 i przypisz\n",
    "x /= 2 # podziel przez 2 i przypisz\n",
    "print(x)"
   ]
  },
  {
   "cell_type": "code",
   "execution_count": 68,
   "id": "61d25345-6a16-4849-8a5a-bcc8b98b1f53",
   "metadata": {},
   "outputs": [
    {
     "name": "stdout",
     "output_type": "stream",
     "text": [
      "False\n"
     ]
    }
   ],
   "source": [
    "x = [1, 2, 3]\n",
    "y = [1, 2, 3]\n",
    "z = x\n",
    "\n",
    "print(x is y)\n",
    "#print(x is z)\n",
    "#print(x == y)\n",
    "#\n",
    "#z[0] = 2\n",
    "#print(x is z)\n",
    "#print(x)\n",
    "#print(x == y)"
   ]
  },
  {
   "cell_type": "code",
   "execution_count": 69,
   "id": "3a57b054-4b31-488d-8187-321e565d6985",
   "metadata": {},
   "outputs": [
    {
     "name": "stdout",
     "output_type": "stream",
     "text": [
      "True\n"
     ]
    }
   ],
   "source": [
    "x = [1, 2, 3]\n",
    "y = [1, 2, 3]\n",
    "z = x\n",
    "\n",
    "#print(x is y)\n",
    "print(x is z)\n",
    "#print(x == y)\n",
    "#\n",
    "#z[0] = 2\n",
    "#print(x is z)\n",
    "#print(x)\n",
    "#print(x == y)"
   ]
  },
  {
   "cell_type": "code",
   "execution_count": 71,
   "id": "205ebc50-93fd-47fa-82d6-db8e42fb5f93",
   "metadata": {},
   "outputs": [
    {
     "name": "stdout",
     "output_type": "stream",
     "text": [
      "True\n"
     ]
    }
   ],
   "source": [
    "x = [1, 2, 3]\n",
    "y = [1, 2, 3]\n",
    "z = x\n",
    "\n",
    "#print(x is y)\n",
    "#print(x is z)\n",
    "print(x == y) #SPRAWDZA CZY MA TE SAME WARTOSCI\n",
    "#\n",
    "#z[0] = 2\n",
    "#print(x is z)\n",
    "#print(x)\n",
    "#print(x == y)"
   ]
  },
  {
   "cell_type": "code",
   "execution_count": 79,
   "id": "861ef3fa-a5f2-4eda-8e47-ae7fc7fde767",
   "metadata": {},
   "outputs": [
    {
     "name": "stdout",
     "output_type": "stream",
     "text": [
      "False\n",
      "True\n",
      "True\n",
      "True\n",
      "[2, 2, 3]\n",
      "False\n"
     ]
    }
   ],
   "source": [
    "x = [1, 2, 3]\n",
    "y = [1, 2, 3]\n",
    "z = x\n",
    "\n",
    "print(x is y)\n",
    "print(x is z)\n",
    "print(x == y)\n",
    "#\n",
    "z[0] = 2\n",
    "print(x is z)\n",
    "print(x)\n",
    "print(x == y)"
   ]
  },
  {
   "cell_type": "code",
   "execution_count": 85,
   "id": "b4a5c6ea-0e0d-48d4-a406-b4e178cc0558",
   "metadata": {},
   "outputs": [
    {
     "name": "stdout",
     "output_type": "stream",
     "text": [
      "False\n",
      "True\n",
      "True\n",
      "True\n",
      "True\n"
     ]
    }
   ],
   "source": [
    "x = [1, 2, 3]\n",
    "x2 = [1, 2, 3, [1, 2]]\n",
    "y = [1, 2]\n",
    "z = 2\n",
    "t = 1\n",
    "print(y in x) # y jest w x # CZYLI CZY [1,2] JEST W PIERWSZYM X I POKAZUJE FALSE GDYZ NIE MA IDENTYCZNEGO ZAPISU [1,2]\n",
    "print(z in x) # z jest w x\n",
    "print(x not in y) # z nie jest w x\n",
    "print(3 in x) # czy 3 jest w x\n",
    "print(y in x2) # czy y jest w x2"
   ]
  }
 ],
 "metadata": {
  "kernelspec": {
   "display_name": "Python 3 (ipykernel)",
   "language": "python",
   "name": "python3"
  },
  "language_info": {
   "codemirror_mode": {
    "name": "ipython",
    "version": 3
   },
   "file_extension": ".py",
   "mimetype": "text/x-python",
   "name": "python",
   "nbconvert_exporter": "python",
   "pygments_lexer": "ipython3",
   "version": "3.13.5"
  }
 },
 "nbformat": 4,
 "nbformat_minor": 5
}
