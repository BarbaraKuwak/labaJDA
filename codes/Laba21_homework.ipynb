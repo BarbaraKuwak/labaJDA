{
 "cells": [
  {
   "cell_type": "markdown",
   "id": "dbc018af",
   "metadata": {},
   "source": [
    "# Zadanie domowe\n",
    "**Cel**: Stworzenie notatnika Jupyter, w którym krok po kroku wykonasz analizę temperatur z użyciem podstawowych struktur i instrukcji Pythona.\n",
    "\n",
    "Dla zadeklarowanych danych\n",
    "1. Używając pętli `for`, wypisz temperatury.\n",
    "\n",
    "2. Używając pętli `for`, wypisuj temperatury do momentu pierwszej wyższej niż 25°C (włącznie).\n",
    "\n",
    "3. Dla każdej temperatury wykonaj sprawdzenie:\n",
    "- Jeśli temperatura jest niższa niż 20°C, wypisz „chłodno”.\n",
    "- Jeśli temperatura jest w przedziale 20–25°C, wypisz „przyjemnie”.\n",
    "- Jeśli temperatura jest wyższa niż 25°C, wypisz „gorąco”.\n",
    "\n",
    "4. Napisz funkcję `srednia_temperatura`, która przyjmie listę temperatur i zwróci ich średnią wartość. Uruchom funkcję dla podanej listy temperatur i wypisz wynik (do policzenia średniej użyj funkcji `sum` - sumuje liczby, funkcja `len` zwraca długość listy).\n",
    "\n",
    "5. Napisz funkcję `dni_temperatura_powyzej`, która przyjmie słownik temperatury_dni oraz próg temperatury i zwróci listę dni, w których temperatura była wyższa niż podany próg. Uruchom funkcję dla progu 22°C i wypisz wynik.\n",
    "\n",
    "6. Używając list comprehension, utwórz nową listę temperatur zwiększonych o 2°C i wypisz wynik.\n",
    "\n",
    "7. Używając list comprehension, utwórz listę temperatur wyższych niż 20°C i wypisz wynik.\n",
    "\n",
    "8. W osobnej komórce markdown podsumuj wyniki:\n",
    "\n",
    "- Średnia temperatura.\n",
    "- Najcieplejszy dzień i jego temperatura.\n",
    "- Lista dni z temperaturą powyżej 22°C."
   ]
  },
  {
   "cell_type": "code",
   "execution_count": 1,
   "id": "98f0e8c8",
   "metadata": {},
   "outputs": [],
   "source": [
    "# Lista temperatur z ostatniego tygodnia\n",
    "temperatury = [15, 20, 22, 19, 30, 25, 18]\n",
    "\n",
    "# Słownik - przypisanie temperatur do dni tygodnia\n",
    "temperatury_dni = {\n",
    "    \"Pon\": 15,\n",
    "    \"Wt\": 20,\n",
    "    \"Śr\": 22,\n",
    "    \"Czw\": 19,\n",
    "    \"Pt\": 30,\n",
    "    \"Sob\": 25,\n",
    "    \"Nd\": 18\n",
    "}"
   ]
  }
 ],
 "metadata": {
  "kernelspec": {
   "display_name": "Python 3 (ipykernel)",
   "language": "python",
   "name": "python3"
  },
  "language_info": {
   "codemirror_mode": {
    "name": "ipython",
    "version": 3
   },
   "file_extension": ".py",
   "mimetype": "text/x-python",
   "name": "python",
   "nbconvert_exporter": "python",
   "pygments_lexer": "ipython3",
   "version": "3.10.9"
  }
 },
 "nbformat": 4,
 "nbformat_minor": 5
}
