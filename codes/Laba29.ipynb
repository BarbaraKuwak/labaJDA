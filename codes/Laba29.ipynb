{
 "cells": [
  {
   "cell_type": "code",
   "execution_count": null,
   "id": "ca1f419c-5d38-497d-b20b-09df35bb13ba",
   "metadata": {},
   "outputs": [],
   "source": [
    "import pandas as pd\n",
    "import numpy as np\n",
    "import matplotlib.pyplot as plt\n",
    "import seaborn as sns\n",
    "from sklearn.model_selection import train_test_split, GridSearchCV\n",
    "from sklearn.preprocessing import StandardScaler\n",
    "from sklearn.impute import SimpleImputer\n",
    "from sklearn.linear_model import LogisticRegression\n",
    "from sklearn.tree import DecisionTreeClassifier, plot_tree\n",
    "from sklearn.ensemble import RandomForestClassifier\n",
    "from sklearn.utils import resample\n",
    "from sklearn.metrics import accuracy_score, precision_score, recall_score, f1_score, roc_auc_score, confusion_matrix, roc_curve"
   ]
  },
  {
   "cell_type": "code",
   "execution_count": null,
   "id": "7cda38a7-53a5-4076-9498-d4cffa677720",
   "metadata": {},
   "outputs": [],
   "source": [
    "# Wczytywanie danych\n",
    "df_titanic = sns.load_dataset('titanic')\n",
    "df_titanic = df_titanic.drop(columns = ['embark_town', 'deck']) # usuwanie powtórzonej kolumny i prawie pustej\n",
    "# Dokumentacja : https://www.kaggle.com/code/janiobachmann/credit-fraud-dealing-with-imbalanced-datasets/input\n",
    "df_fraud = pd.read_csv(\"../input/credit_fraud/creditcard.csv\")\n",
    "# Dokumentacja : https://www.kaggle.com/datasets/johnsmith88/heart-disease-dataset/data\n",
    "df_heart = pd.read_csv('../input/heart_disease/heart.csv')"
   ]
  },
  {
   "cell_type": "code",
   "execution_count": null,
   "id": "448f6b83-fba6-4bfc-aab7-18d65de3de17",
   "metadata": {},
   "outputs": [],
   "source": [
    "# Eksploracja danych - funkcja\n",
    "def explore_data(df, name):\n",
    "    print(f'\\n{name} Dataset:\\n')\n",
    "    print(df.info())\n",
    "    print(df.describe())\n",
    "    print(df.isnull().sum())\n",
    "    print(df.head())\n",
    "    \n",
    "    \n"
   ]
  },
  {
   "cell_type": "code",
   "execution_count": null,
   "id": "81973699-4676-48a9-a634-a743363211d9",
   "metadata": {},
   "outputs": [],
   "source": []
  },
  {
   "cell_type": "markdown",
   "id": "de3dc3a9-d6a0-4cf3-94fa-3e9e30c13b5c",
   "metadata": {},
   "source": [
    "## Eksploracja danych titanic"
   ]
  },
  {
   "cell_type": "code",
   "execution_count": null,
   "id": "4d53b029",
   "metadata": {},
   "outputs": [],
   "source": [
    "# Eksploracja zbiorów danych\n",
    "explore_data(df_titanic, 'titanic')"
   ]
  },
  {
   "cell_type": "code",
   "execution_count": null,
   "id": "735ed6b1-b9eb-4c39-84eb-4d800185954a",
   "metadata": {},
   "outputs": [],
   "source": [
    "df_titanic.dtypes"
   ]
  },
  {
   "cell_type": "code",
   "execution_count": null,
   "id": "fa632c2b-bc16-4a65-a741-23ab841b0619",
   "metadata": {},
   "outputs": [],
   "source": [
    "sns.histplot(df_titanic['age'].dropna(), bins=30, kde=True)\n",
    "plt.title('Rozkład wieku w zbiorze Titanic')\n",
    "plt.show()\n",
    "\n",
    "sns.countplot(x='survived', data=df_titanic)\n",
    "plt.title('Liczba ocalałych w zbiorze Titanic')\n",
    "plt.show()\n",
    "\n",
    "sns.heatmap(df_titanic.loc[:, df_titanic.dtypes.isin(['int64', 'float64', 'bool'])].corr(), annot=True, cmap='coolwarm')\n",
    "plt.show()"
   ]
  },
  {
   "cell_type": "code",
   "execution_count": null,
   "id": "30681b0a-2017-43b2-9713-8d204b283a2b",
   "metadata": {},
   "outputs": [],
   "source": [
    "sns.histplot(df_titanic['age'].dropna(), bins=30, kde=True)\n",
    "plt.title('Rozkład wieku w zbiorze Titanic')\n",
    "plt.show()\n",
    "\n",
    "sns.countplot(x='survived', data=df_titanic)\n",
    "plt.title('Liczba ocalałych w zbiorze Titanic')\n",
    "plt.show()\n",
    "\n",
    "sns.pairplot(df_titanic.loc[:, df_titanic.dtypes != 'object'])\n",
    "plt.show()"
   ]
  },
  {
   "cell_type": "markdown",
   "id": "aa5ac40b-0d56-4c67-8132-8a4640aac17d",
   "metadata": {},
   "source": [
    "### Ćwiczenie:\n",
    "Wypełnij puste dane w zbiorze `df_titanic`"
   ]
  },
  {
   "cell_type": "code",
   "execution_count": null,
   "id": "5bdada69-8913-4520-90f9-84fab5c6c54f",
   "metadata": {},
   "outputs": [],
   "source": []
  },
  {
   "cell_type": "markdown",
   "id": "f003614b-2f40-4ab0-9e6a-55e055584dcb",
   "metadata": {},
   "source": [
    "## Eksploracja danych Credit card"
   ]
  },
  {
   "cell_type": "code",
   "execution_count": null,
   "id": "4f5cbfcf-8193-4f02-95be-22e986228ccf",
   "metadata": {},
   "outputs": [],
   "source": [
    "explore_data(df_fraud, 'Fraud')"
   ]
  },
  {
   "cell_type": "code",
   "execution_count": null,
   "id": "443993de-bbbf-4a9e-8b73-dfc7f56c1034",
   "metadata": {},
   "outputs": [],
   "source": [
    "sns.heatmap(df_fraud.corr(), cmap='coolwarm')\n",
    "plt.show()"
   ]
  },
  {
   "cell_type": "code",
   "execution_count": null,
   "id": "123b2293-25e7-48f2-9ea8-c7501bee324b",
   "metadata": {},
   "outputs": [],
   "source": [
    "df_fraud.corr().iloc[30]"
   ]
  },
  {
   "cell_type": "markdown",
   "id": "5099d86d-acee-4351-ab88-56ceb9f93514",
   "metadata": {},
   "source": [
    "### Ćwiczenie:\n",
    "Wykonaj Eksplorację danych `df_heart`"
   ]
  },
  {
   "cell_type": "code",
   "execution_count": null,
   "id": "71f9322d-5bce-4454-8383-0c0fef667f4c",
   "metadata": {},
   "outputs": [],
   "source": []
  },
  {
   "cell_type": "markdown",
   "id": "9c01344a-734d-4f9c-a7c7-3ab720e98a90",
   "metadata": {},
   "source": [
    "## Przygotowanie danych do modelowania\n"
   ]
  },
  {
   "cell_type": "code",
   "execution_count": null,
   "id": "7372533e-4d84-47be-bbaa-5840b51e278a",
   "metadata": {},
   "outputs": [],
   "source": [
    "def split_based_on_time(X, y, time_col, test_size):\n",
    "    interval = X[time_col].quantile(1-test_size)\n",
    "    return X[X[time_col]<=interval].drop(columns = time_col), X[X[time_col]>interval].drop(columns = time_col), y[X[time_col]<=interval], y[X[time_col]>interval]\n",
    "\n",
    "X_titanic = pd.get_dummies(df_titanic.drop(columns=['survived', 'alive']))\n",
    "y_titanic = df_titanic['survived']\n",
    "\n",
    "X_fraud = df_fraud.drop(columns=['Class'])\n",
    "y_fraud = df_fraud['Class']\n",
    "\n",
    "X_train_titanic, X_test_titanic, y_train_titanic, y_test_titanic = train_test_split(X_titanic, y_titanic, test_size = 0.2, random_state = 42)\n",
    "X_train_fraud, X_test_fraud, y_train_fraud, y_test_fraud = split_based_on_time(X_fraud, y_fraud, time_col = 'Time', test_size = 0.2)"
   ]
  },
  {
   "cell_type": "markdown",
   "id": "5b30bc8a-e787-4058-a174-49e4e399a8a2",
   "metadata": {},
   "source": [
    "### Ćwiczenie:\n",
    "Podziel zbiór Heart Disease\n"
   ]
  },
  {
   "cell_type": "code",
   "execution_count": null,
   "id": "77687157",
   "metadata": {},
   "outputs": [],
   "source": []
  },
  {
   "cell_type": "markdown",
   "id": "9b53c315-41d2-4585-a294-d72f533f98d1",
   "metadata": {},
   "source": [
    "## Modelowanie"
   ]
  },
  {
   "cell_type": "code",
   "execution_count": null,
   "id": "3e218cd6-7cd0-4361-aa6d-79de60d6027a",
   "metadata": {},
   "outputs": [],
   "source": [
    "# Titanic\n",
    "model = LogisticRegression()\n",
    "model.fit(X_train_titanic, y_train_titanic)\n",
    "\n",
    "\n",
    "y_pred_test_titanic = model.predict(X_test_titanic)\n",
    "y_prob_test_titanic = model.predict_proba(X_test_titanic)[:, 1]\n",
    "fpr, tpr, _ = roc_curve(y_test_titanic, y_prob_test_titanic)\n",
    "\n",
    "print(f\"\\nTitanic Performance:\")\n",
    "print(f\"Accuracy: {accuracy_score(y_test_titanic, y_pred_test_titanic):.4f}\")\n",
    "print(f\"Precision: {precision_score(y_test_titanic, y_pred_test_titanic):.4f}\")\n",
    "print(f\"Recall: {recall_score(y_test_titanic, y_pred_test_titanic):.4f}\")\n",
    "print(f\"F1 Score: {f1_score(y_test_titanic, y_pred_test_titanic):.4f}\")\n",
    "print(f\"ROC AUC Score: {roc_auc_score(y_test_titanic, y_prob_test_titanic):.4f}\")\n",
    "\n",
    "plt.plot(fpr, tpr, label=f'Titanic (AUC = {roc_auc_score(y_test_titanic, y_prob_test_titanic):.4f}')"
   ]
  },
  {
   "cell_type": "code",
   "execution_count": null,
   "id": "b3321ba4",
   "metadata": {},
   "outputs": [],
   "source": [
    "pd.DataFrame({'coefficients' : model.coef_[0]}, index = X_train_titanic.columns).sort_values('coefficients')"
   ]
  },
  {
   "cell_type": "markdown",
   "id": "ce2a8197-cc92-471a-bdf1-4c44e2000274",
   "metadata": {},
   "source": [
    "## Undersampling / Oversampling"
   ]
  },
  {
   "cell_type": "code",
   "execution_count": null,
   "id": "21ed9e45",
   "metadata": {},
   "outputs": [],
   "source": [
    "df_titanic['survived'].value_counts()"
   ]
  },
  {
   "cell_type": "code",
   "execution_count": null,
   "id": "3285e91a-2303-4c14-bdc1-501995cdda54",
   "metadata": {},
   "outputs": [],
   "source": [
    "# Undersampling / Oversampling\n",
    "def oversampling_balance_data(df, target_col):\n",
    "    major_index = df[target_col].value_counts().index[0]\n",
    "    majority = df[df[target_col] == major_index]\n",
    "    minority = df[df[target_col] != major_index]\n",
    "    minoroty_resampled = minority.sample(n = majority.shape[0], replace = True, random_state = 42)\n",
    "    return pd.concat([majority, minoroty_resampled])\n",
    "\n",
    "\n",
    "df_titanic_oversampled = oversampling_balance_data(df_titanic, 'survived')"
   ]
  },
  {
   "cell_type": "markdown",
   "id": "8d82a357-0b20-43c6-8cc1-a144bfc7e554",
   "metadata": {},
   "source": [
    "### Ćwiczenie:\n",
    "Napisz funkcję do undersamplingu."
   ]
  },
  {
   "cell_type": "code",
   "execution_count": null,
   "id": "e8f55a45-9cf3-42a2-a7d5-fbbc9c157c90",
   "metadata": {},
   "outputs": [],
   "source": []
  },
  {
   "cell_type": "code",
   "execution_count": null,
   "id": "9a56ea8c",
   "metadata": {},
   "outputs": [],
   "source": []
  },
  {
   "cell_type": "markdown",
   "id": "df9c521d-7177-4fbb-b88a-0421e30c3fc8",
   "metadata": {},
   "source": [
    "### Ćwiczenie:\n",
    "Sprawdź wyniki po nałożeniu oversamplingu"
   ]
  },
  {
   "cell_type": "code",
   "execution_count": null,
   "id": "6a13ac34-b742-470f-8958-8052fe0d1a8e",
   "metadata": {},
   "outputs": [],
   "source": []
  },
  {
   "cell_type": "markdown",
   "id": "5870f211-411c-4c0a-b4f7-66b37e200aad",
   "metadata": {},
   "source": [
    "## Dodanie nowych cech"
   ]
  },
  {
   "cell_type": "code",
   "execution_count": null,
   "id": "4e1cebea-856e-4f19-a954-a7a8cab4bcb2",
   "metadata": {},
   "outputs": [],
   "source": [
    "# Titanic\n",
    "df_titanic['FamilySize'] = df_titanic['sibsp'] + df_titanic['parch']\n",
    "\n",
    "df_heart['Cholesterol_BP_Ratio'] = df_heart['chol'] / df_heart['trestbps']\n",
    "\n"
   ]
  },
  {
   "cell_type": "markdown",
   "id": "d84bce75-7b66-4911-94ed-ef945613b709",
   "metadata": {},
   "source": [
    "### Ćwiczenie:\n",
    "Sprawdź czy wyniki się zmienią po dodaniu nowych cech\n"
   ]
  },
  {
   "cell_type": "code",
   "execution_count": null,
   "id": "1d953996-6919-4f85-9ea0-2c8b9a6236ff",
   "metadata": {},
   "outputs": [],
   "source": []
  },
  {
   "cell_type": "markdown",
   "id": "be0aaf5b",
   "metadata": {},
   "source": [
    "### Ćwiczenie\n",
    "Sprawdź dla pozostałych zbiorów"
   ]
  },
  {
   "cell_type": "code",
   "execution_count": null,
   "id": "21954261",
   "metadata": {},
   "outputs": [],
   "source": []
  },
  {
   "cell_type": "markdown",
   "id": "db4636d3-b16d-40cd-89b2-e5f2d218a9c2",
   "metadata": {},
   "source": [
    "## Decision Tree modelowanie"
   ]
  },
  {
   "cell_type": "code",
   "execution_count": null,
   "id": "f6e5d060-37df-42b1-ba2c-e6cecbb774ac",
   "metadata": {},
   "outputs": [],
   "source": [
    "dt = DecisionTreeClassifier(max_depth=3, random_state=42)\n",
    "dt.fit(X_heart, y_heart)\n",
    "plt.figure(figsize=(12, 6))\n",
    "plot_tree(dt, filled=True, feature_names=df_heart.drop(columns=['target']).columns, class_names=['No Disease', 'Disease'])\n",
    "plt.title('Drzewo decyzyjne dla Heart Disease')\n",
    "plt.show()\n"
   ]
  },
  {
   "cell_type": "markdown",
   "id": "250d8b6c-71eb-440b-b157-e9ff042e4075",
   "metadata": {},
   "source": [
    "## Ćwiczenie:\n",
    "Sprawdź dla pozostałych zbiorów"
   ]
  },
  {
   "cell_type": "code",
   "execution_count": null,
   "id": "684f3d2f-16bd-49a1-9c29-49a39c97f365",
   "metadata": {},
   "outputs": [],
   "source": []
  },
  {
   "cell_type": "markdown",
   "id": "8b06bce9-d12e-44ef-87bc-2b5a8780fbf1",
   "metadata": {},
   "source": [
    "## Random Forest"
   ]
  },
  {
   "cell_type": "code",
   "execution_count": null,
   "id": "bb15fd30-0b8c-4d9d-a4a9-95a3a8926e67",
   "metadata": {},
   "outputs": [],
   "source": [
    "model = RandomForestClassifier(random_state=42, n_estimators = 50, max_depth=3, min_samples_leaf=10)\n",
    "model.fit(X_train_titanic, y_train_titanic)\n",
    "y_pred = model.predict(X_test_titanic)\n",
    "y_prob = model.predict_proba(X_test_titanic)[:, 1]\n",
    "fpr, tpr, _ = roc_curve(y_test_titanic, y_prob)\n",
    "\n",
    "name = 'Titanic'\n",
    "print(f\"\\n Performance:\")\n",
    "print(f\"Accuracy: {accuracy_score(y_test_titanic, y_pred):.4f}\")\n",
    "print(f\"Precision: {precision_score(y_test_titanic, y_pred):.4f}\")\n",
    "print(f\"Recall: {recall_score(y_test_titanic, y_pred):.4f}\")\n",
    "print(f\"F1 Score: {f1_score(y_test_titanic, y_pred):.4f}\")\n",
    "print(f\"ROC AUC Score: {roc_auc_score(y_test_titanic, y_prob):.4f}\")\n",
    "\n",
    "plt.plot(fpr, tpr, label=f'{name} (AUC = {roc_auc_score(y_test_titanic, y_prob):.4f}')"
   ]
  },
  {
   "cell_type": "code",
   "execution_count": null,
   "id": "66b159df-2d2e-4aa7-971b-ad0abb845938",
   "metadata": {},
   "outputs": [],
   "source": [
    "### Feature importance\n",
    "parameters = pd.DataFrame({'importances': model.feature_importances_}, index = X_train_titanic.columns).sort_values('importances', ascending = False)"
   ]
  },
  {
   "cell_type": "markdown",
   "id": "fd0ed748-1172-4b1f-9d7a-17f98daa8c99",
   "metadata": {},
   "source": [
    "### Ćwiczenie:\n",
    "Sprawdź regresję logistyczną z najlepszymi parametrami z RandomForest"
   ]
  },
  {
   "cell_type": "code",
   "execution_count": null,
   "id": "4be08bc5-22e2-4709-8115-2b219bb7f334",
   "metadata": {},
   "outputs": [],
   "source": []
  },
  {
   "cell_type": "markdown",
   "id": "4fb9da0b-2248-4248-9373-9dad25b4d7c2",
   "metadata": {},
   "source": [
    "## Tuning Hiperparametrów"
   ]
  },
  {
   "cell_type": "code",
   "execution_count": null,
   "id": "0662478c-564d-48bc-a356-0f8104c8b84c",
   "metadata": {},
   "outputs": [],
   "source": [
    "param_grid_rf = {\n",
    "    'n_estimators': [10,20,50],\n",
    "    'max_depth': [2,5,10],\n",
    "    'min_samples_split': [10, 50, 100],\n",
    "    #'min_samples_leaf': [1, 2, 4]\n",
    "}"
   ]
  },
  {
   "cell_type": "code",
   "execution_count": null,
   "id": "0329536b-5f65-4d69-b522-73f38a16edc0",
   "metadata": {},
   "outputs": [],
   "source": [
    "rf = RandomForestClassifier(random_state=42)\n",
    "grid_titanic = GridSearchCV(rf, param_grid_rf, cv=3)\n",
    "grid_titanic.fit(X_titanic, y_titanic)\n",
    "print(\"Najlepsze parametry dla Titanic:\", grid_titanic.best_params_)\n",
    "\n",
    "#grid_fraud = GridSearchCV(rf, param_grid_rf, cv=3)\n",
    "#grid_fraud.fit(X_fraud, y_fraud)\n",
    "#print(\"Najlepsze parametry dla Fraud:\", grid_fraud.best_params_)\n",
    "\n",
    "#grid_heart = GridSearchCV(rf, param_grid_rf, cv=3)\n",
    "#grid_heart.fit(X_heart, y_heart)\n",
    "#print(\"Najlepsze parametry dla Heart Disease:\", grid_heart.best_params_)"
   ]
  },
  {
   "cell_type": "code",
   "execution_count": null,
   "id": "9e61ea3a-243f-46e9-959b-51fb3fbcac3d",
   "metadata": {},
   "outputs": [],
   "source": []
  },
  {
   "cell_type": "markdown",
   "id": "7f9d40f3-8efc-4735-a626-b38c1b704687",
   "metadata": {},
   "source": [
    "### Ćwiczenie:\n",
    "Sprawdź wyniki z najlepszymi parametrami"
   ]
  },
  {
   "cell_type": "code",
   "execution_count": null,
   "id": "56c88c14-186e-490b-a888-4a5342322493",
   "metadata": {},
   "outputs": [],
   "source": []
  }
 ],
 "metadata": {
  "kernelspec": {
   "display_name": "Python 3 (ipykernel)",
   "language": "python",
   "name": "python3"
  },
  "language_info": {
   "codemirror_mode": {
    "name": "ipython",
    "version": 3
   },
   "file_extension": ".py",
   "mimetype": "text/x-python",
   "name": "python",
   "nbconvert_exporter": "python",
   "pygments_lexer": "ipython3",
   "version": "3.12.7"
  }
 },
 "nbformat": 4,
 "nbformat_minor": 5
}
