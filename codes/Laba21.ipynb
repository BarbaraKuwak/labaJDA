{
 "cells": [
  {
   "cell_type": "markdown",
   "id": "31b7c37c",
   "metadata": {},
   "source": [
    "# Podstawy programowania w Pythonie\n"
   ]
  },
  {
   "cell_type": "markdown",
   "id": "ed0023fa",
   "metadata": {},
   "source": [
    "## Podstawowe struktury danych - LIST/LISTA\n",
    "Modyfikowalna, uporządkowana, indeksowalna kolekcja\n"
   ]
  },
  {
   "cell_type": "code",
   "execution_count": null,
   "id": "4a4e8788",
   "metadata": {},
   "outputs": [],
   "source": [
    "lista = [1, 2, 3, 4, 5] # Tworzenie listy\n",
    "print(\"Lista:\", lista)\n",
    "lista.append(6)  # Dodawanie elementu\n",
    "print(\"Lista po dodaniu 6:\", lista)\n",
    "lista.remove(3)  # Usuwanie elementu\n",
    "print(\"Lista po usunięciu 3:\", lista)\n",
    "print(\"Element na indeksie 2:\", lista[2])  # Odnoszenie się do elementu\n",
    "print(\"Elementy na indeksach 1, 2:\", lista[1:3]) # Odnoszenie się do elementu 2 i 3"
   ]
  },
  {
   "cell_type": "markdown",
   "id": "63d9154c",
   "metadata": {},
   "source": [
    "### Ćwiczenie\n",
    "1. Utwórz listę liczb parzystych od 2 do 20 włącznie.\n",
    "2. Usuń z niej 4 element.\n",
    "2. Wydrukuj elementy na indeksach 2, 3, 4, 5."
   ]
  },
  {
   "cell_type": "code",
   "execution_count": null,
   "id": "88ddb2ff",
   "metadata": {},
   "outputs": [],
   "source": [
    "x = [2, 4, 6, 8, 10, 12, 14, 16, 18, 20]\n",
    "print(x)\n"
   ]
  },
  {
   "cell_type": "markdown",
   "id": "6996076a",
   "metadata": {},
   "source": [
    "## Podstawowe struktury danych - TUPLE/KROTKA\n",
    "Niemodyfikowalna, uporządkowana, indeksowalna kolekcja\n"
   ]
  },
  {
   "cell_type": "code",
   "execution_count": null,
   "id": "012e554a",
   "metadata": {},
   "outputs": [],
   "source": [
    "krotka = (10, 20, 30) # Tworzenie listy\n",
    "print(\"Krotka:\", krotka)\n",
    "print(\"Element na indeksie 1:\", krotka[1])  # Odnoszenie się do elementu\n",
    "print(10 in krotka)"
   ]
  },
  {
   "cell_type": "markdown",
   "id": "15a1abf6",
   "metadata": {},
   "source": [
    "### Ćwiczenie\n",
    "Wypisz drugi element krotki i sprawdź, czy liczba 25 znajduje się w krotce"
   ]
  },
  {
   "cell_type": "code",
   "execution_count": null,
   "id": "dd495d89",
   "metadata": {},
   "outputs": [],
   "source": []
  },
  {
   "cell_type": "markdown",
   "id": "9924ffde",
   "metadata": {},
   "source": [
    "## Podstawowe struktury danych - ZBIÓR/SET \n",
    "Modyfikowalna, nieuporządkowana, nieindeksowalna kolekcja\n"
   ]
  },
  {
   "cell_type": "code",
   "execution_count": null,
   "id": "c5852cc2",
   "metadata": {},
   "outputs": [],
   "source": [
    "zbior = {1, 2, 3, 3, 4, 4, 4, 4, 5}\n",
    "print(\"Zbiór:\", zbior)\n",
    "zbior.add(6)  # Dodawanie elementu\n",
    "print(\"Zbiór po dodaniu 6:\", zbior)\n",
    "zbior.discard(2)  # Usuwanie elementu\n",
    "print(\"Zbiór po usunięciu 2:\", zbior)"
   ]
  },
  {
   "cell_type": "markdown",
   "id": "1fb2f3f6",
   "metadata": {},
   "source": [
    "### Ćwiczenie\n",
    "Stwórz zbiór z liczbami od 1 do 10, a następnie usuń z niego liczbę 5"
   ]
  },
  {
   "cell_type": "code",
   "execution_count": null,
   "id": "30449a39",
   "metadata": {},
   "outputs": [],
   "source": []
  },
  {
   "cell_type": "markdown",
   "id": "0542d77b",
   "metadata": {},
   "source": [
    "## Podstawowe struktury danych - SŁOWNIK/DICT \n",
    "Modyfikowalna, uporządkowana, indeksowalna przez klucze kolekcja\n"
   ]
  },
  {
   "cell_type": "code",
   "execution_count": null,
   "id": "6708aaa4",
   "metadata": {},
   "outputs": [],
   "source": [
    "# SŁOWNIK - przechowuje pary klucz-wartość\n",
    "slownik = {\"imie\": [\"Jan\", \"Krzysztof\"], \"wiek\": [25, 62]}\n",
    "print(\"Słownik:\", slownik)\n",
    "slownik[\"miasto\"] = [\"Warszawa\", \"Białystok\"]  # Dodawanie nowej pary klucz-wartość\n",
    "print(\"Słownik po dodaniu miasta:\", slownik)\n",
    "del slownik[\"wiek\"]  # Usuwanie klucza\n",
    "print(\"Słownik po usunięciu wieku:\", slownik)\n",
    "print(\"Imię ze słownika:\", slownik[\"imie\"])  # Odnoszenie się do wartości"
   ]
  },
  {
   "cell_type": "code",
   "execution_count": null,
   "id": "61ab8f1d",
   "metadata": {},
   "outputs": [],
   "source": [
    "print(\"Klucze:\", slownik.keys()) # metoda .keys() zwraca wszystkie klucze słownika\n",
    "print(\"Wartości:\", slownik.values()) # metoda .values() zwraca wszystkie wartości słownika"
   ]
  },
  {
   "cell_type": "markdown",
   "id": "1d6fd4eb",
   "metadata": {},
   "source": [
    "### Ćwiczenie\n",
    "Dodaj do słownika klucz \"zawód\" z wartością [\"Analityk danych\", \"Zdun\"], a następnie usuń klucz \"miasto\""
   ]
  },
  {
   "cell_type": "code",
   "execution_count": null,
   "id": "445175ea",
   "metadata": {},
   "outputs": [],
   "source": []
  },
  {
   "cell_type": "markdown",
   "id": "ad548566",
   "metadata": {},
   "source": [
    "## Instrukcja `if`-`else`"
   ]
  },
  {
   "cell_type": "code",
   "execution_count": null,
   "id": "a6ccd5c2",
   "metadata": {},
   "outputs": [],
   "source": [
    "liczba = -10\n",
    "if liczba > 0:\n",
    "    print(\"Liczba jest dodatnia\")\n",
    "else:\n",
    "    print(\"Liczba nie jest dodatnia\")"
   ]
  },
  {
   "cell_type": "markdown",
   "id": "333db660",
   "metadata": {},
   "source": [
    "### Ćwiczenie\n",
    "Napisz kod sprawdzający, czy podana liczba jest parzysta"
   ]
  },
  {
   "cell_type": "code",
   "execution_count": null,
   "id": "d3847cf1",
   "metadata": {},
   "outputs": [],
   "source": []
  },
  {
   "cell_type": "markdown",
   "id": "2c79de4a",
   "metadata": {},
   "source": [
    "## Instrukcja `if`-`elif`-`else`"
   ]
  },
  {
   "cell_type": "code",
   "execution_count": null,
   "id": "8b3822bf",
   "metadata": {},
   "outputs": [],
   "source": [
    "wiek = 15\n",
    "if wiek < 18:\n",
    "    print(\"Nieletni\")\n",
    "elif wiek == 18:\n",
    "    print(\"Dokładnie 18 lat\")\n",
    "else:\n",
    "    print(\"Pełnoletni\")"
   ]
  },
  {
   "cell_type": "markdown",
   "id": "1fb06d5b",
   "metadata": {},
   "source": [
    "### Ćwiczenie\n",
    "Napisz kod określający, czy liczba jest dodatnia, ujemna czy zerem"
   ]
  },
  {
   "cell_type": "code",
   "execution_count": null,
   "id": "3cced6fc",
   "metadata": {},
   "outputs": [],
   "source": []
  },
  {
   "cell_type": "markdown",
   "id": "5e0bd03a",
   "metadata": {},
   "source": [
    "## Pętla `for`"
   ]
  },
  {
   "cell_type": "code",
   "execution_count": null,
   "id": "e6e70428",
   "metadata": {},
   "outputs": [],
   "source": [
    "for i in range(10):\n",
    "    print(i)"
   ]
  },
  {
   "cell_type": "code",
   "execution_count": null,
   "id": "3816de12",
   "metadata": {},
   "outputs": [],
   "source": [
    "for i in range(10, 1, -2): # range(start, koniec, co ile zmiana)\n",
    "    print(\"Iteracja:\", i)"
   ]
  },
  {
   "cell_type": "code",
   "execution_count": null,
   "id": "ed10a67d",
   "metadata": {},
   "outputs": [],
   "source": [
    "liczby = [0, 3, 21, 42]\n",
    "for liczba in liczby: # możliwe jest iterowanie po podstawowych strukturach\n",
    "    print(\"liczba:\", liczba)"
   ]
  },
  {
   "cell_type": "code",
   "execution_count": null,
   "id": "26185126",
   "metadata": {},
   "outputs": [],
   "source": [
    "for liczba in [0, 3, 21, 42]: # możliwa jest iteracja bez deklaracji\n",
    "    print(\"liczba:\", liczba)"
   ]
  },
  {
   "cell_type": "code",
   "execution_count": null,
   "id": "22b8dc99",
   "metadata": {},
   "outputs": [],
   "source": [
    "slownik = {\"imie\": \"Jan\", \"wiek\": 25, \"miasto\": \"Warszawa\"}\n",
    "\n",
    "for klucz, wartosc in slownik.items():\n",
    "    print(klucz, wartosc)"
   ]
  },
  {
   "cell_type": "markdown",
   "id": "a1e17420",
   "metadata": {},
   "source": [
    "### Ćwiczenie: \n",
    "Użyj pętli `for` i `range`, aby wypisać liczby od 10 do 1 włącznie"
   ]
  },
  {
   "cell_type": "code",
   "execution_count": null,
   "id": "4968dc37",
   "metadata": {},
   "outputs": [],
   "source": []
  },
  {
   "cell_type": "markdown",
   "id": "7cd5c792",
   "metadata": {},
   "source": [
    "## Pętla `while`"
   ]
  },
  {
   "cell_type": "code",
   "execution_count": null,
   "id": "b9674374",
   "metadata": {},
   "outputs": [],
   "source": [
    "x = 5\n",
    "while x > 0: # wykonuj do momentu aż x > 0\n",
    "    x -= 1\n",
    "    \n",
    "    print(\"x wynosi:\", x)\n",
    "    \n",
    "print(\"Done!\")    "
   ]
  },
  {
   "cell_type": "markdown",
   "id": "f2b33cb5",
   "metadata": {},
   "source": [
    "### Ćwiczenie\n",
    "Użyj pętli while, aby znaleźć pierwszą liczbę podzielną przez 7 większą niż 50"
   ]
  },
  {
   "cell_type": "code",
   "execution_count": null,
   "id": "0d1b93b3",
   "metadata": {},
   "outputs": [],
   "source": []
  },
  {
   "cell_type": "markdown",
   "id": "4d7dd607",
   "metadata": {},
   "source": [
    "## `break` i `continue`"
   ]
  },
  {
   "cell_type": "code",
   "execution_count": null,
   "id": "f287fd8e",
   "metadata": {},
   "outputs": [],
   "source": [
    "x = 5\n",
    "while x > 0:\n",
    "    x -= 1\n",
    "    if x == 2: \n",
    "        continue # Jeżeli x == 2 przejdź do następnej iteracji\n",
    "    print(\"x wynosi:\", x)\n",
    "    "
   ]
  },
  {
   "cell_type": "code",
   "execution_count": null,
   "id": "11d0338d",
   "metadata": {},
   "outputs": [],
   "source": [
    "x = 5\n",
    "while x > 0:\n",
    "    x -= 1\n",
    "    if x == 2:\n",
    "        break  # Jeżeli x == 2 przestań wykonywać pętlę\n",
    "    print(\"x wynosi:\", x)"
   ]
  },
  {
   "cell_type": "markdown",
   "id": "f68ad89b",
   "metadata": {},
   "source": [
    "### Ćwiczenie\n",
    "Zadeklaruj `x = 1`. Użyj pętli `while` by mnożyć i nadpisać `x` przez `2`. \n",
    "\n",
    "Wydrukuj każde `x` oprócz `x == 16`. \n",
    "\n",
    "Przerwij pętlę gdy `x > 100`"
   ]
  },
  {
   "cell_type": "code",
   "execution_count": null,
   "id": "1aa94d55",
   "metadata": {},
   "outputs": [],
   "source": []
  },
  {
   "cell_type": "markdown",
   "id": "b47253f8",
   "metadata": {},
   "source": [
    "## Funkcje w Python\n"
   ]
  },
  {
   "cell_type": "code",
   "execution_count": null,
   "id": "d7cc1987",
   "metadata": {},
   "outputs": [],
   "source": [
    "def przywitanie(): # Deklaracja funkcji\n",
    "    print(\"Witaj na 21 zajęciach Junior Data Analyst!\") # Co funkcja robi\n",
    "\n",
    "przywitanie()\n",
    "przywitanie()\n",
    "przywitanie()"
   ]
  },
  {
   "cell_type": "markdown",
   "id": "63ea0b7c",
   "metadata": {},
   "source": [
    "### Ćwiczenie: \n",
    "Napisz funkcję, która wypisuje \"Hello, World!\""
   ]
  },
  {
   "cell_type": "code",
   "execution_count": null,
   "id": "d2c29e4d",
   "metadata": {},
   "outputs": [],
   "source": []
  },
  {
   "cell_type": "markdown",
   "id": "7a6b6e92",
   "metadata": {},
   "source": [
    "## Argumenty w funkcji i zwracanie wartości funkcji\n"
   ]
  },
  {
   "cell_type": "code",
   "execution_count": null,
   "id": "6de74152",
   "metadata": {},
   "outputs": [],
   "source": [
    "# Zwracanie wartości funkcji\n",
    "def kwadrat(x):\n",
    "    return x * x\n",
    "\n",
    "kwadrat_4 = kwadrat(4)\n",
    "\n",
    "print(\"Kwadrat 4 to:\", kwadrat_4)"
   ]
  },
  {
   "cell_type": "code",
   "execution_count": null,
   "id": "cf58aefc",
   "metadata": {},
   "outputs": [],
   "source": [
    "# Argumenty w funkcji\n",
    "def dodaj(a, b):\n",
    "    return a + b\n",
    "\n",
    "wynik = dodaj(a = 5, b = 10)\n",
    "print(\"Wynik dodawania:\", wynik)"
   ]
  },
  {
   "cell_type": "markdown",
   "id": "e1959788",
   "metadata": {},
   "source": [
    "### Ćwiczenie: \n",
    "Napisz funkcję zwracającą większą z dwóch liczb"
   ]
  },
  {
   "cell_type": "code",
   "execution_count": null,
   "id": "3b66f6a9",
   "metadata": {},
   "outputs": [],
   "source": []
  },
  {
   "cell_type": "markdown",
   "id": "d787d582",
   "metadata": {},
   "source": [
    "## List comprehensions"
   ]
  },
  {
   "cell_type": "code",
   "execution_count": null,
   "id": "e8b42243",
   "metadata": {},
   "outputs": [],
   "source": [
    "print(range(10))"
   ]
  },
  {
   "cell_type": "code",
   "execution_count": null,
   "id": "c2a162e1",
   "metadata": {},
   "outputs": [],
   "source": [
    "liczby = [x for x in range(10)] # liczby od 0 do 10 wyłącznie\n",
    "print(\"Liczby 0 - 9:\", liczby)\n",
    "\n",
    "liczby = [x for x in range(10) if x % 2 == 0] # liczby parzyste od 0 do 10 wyłącznie \n",
    "print(\"Liczby parzyste 0-9:\", liczby)"
   ]
  },
  {
   "cell_type": "markdown",
   "id": "1bdce1bd",
   "metadata": {},
   "source": [
    "### Ćwiczenie: \n",
    "Użyj list comprehension, aby stworzyć listę liczb podzielnych przez 3 z zakresu 1-30 włącznie"
   ]
  },
  {
   "cell_type": "code",
   "execution_count": null,
   "id": "ede1dad5",
   "metadata": {},
   "outputs": [],
   "source": []
  },
  {
   "cell_type": "code",
   "execution_count": null,
   "id": "4a59b3ad",
   "metadata": {},
   "outputs": [],
   "source": []
  }
 ],
 "metadata": {
  "kernelspec": {
   "display_name": "Python 3 (ipykernel)",
   "language": "python",
   "name": "python3"
  },
  "language_info": {
   "codemirror_mode": {
    "name": "ipython",
    "version": 3
   },
   "file_extension": ".py",
   "mimetype": "text/x-python",
   "name": "python",
   "nbconvert_exporter": "python",
   "pygments_lexer": "ipython3",
   "version": "3.12.7"
  }
 },
 "nbformat": 4,
 "nbformat_minor": 5
}
