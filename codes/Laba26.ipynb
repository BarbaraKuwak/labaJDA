{
 "cells": [
  {
   "cell_type": "markdown",
   "id": "b2730440-86ce-4f9a-b06f-f6c93317fe0f",
   "metadata": {},
   "source": [
    "# Testowanie hipotez statystycznych w Pythonie\n",
    "## Test t-Studenta – Porównanie średnich dwóch grup"
   ]
  },
  {
   "cell_type": "code",
   "execution_count": null,
   "id": "d9f21214-0254-4b86-902e-b2cebc0c6983",
   "metadata": {},
   "outputs": [],
   "source": [
    "import numpy as np\n",
    "import pandas as pd\n",
    "import seaborn as sns\n",
    "import matplotlib.pyplot as plt\n",
    "import scipy.stats as stats"
   ]
  },
  {
   "cell_type": "markdown",
   "id": "698b2b82-8ba2-403a-9098-90b0e57539f8",
   "metadata": {},
   "source": [
    "## Wprowadzenie do testów statystycznych"
   ]
  },
  {
   "cell_type": "code",
   "execution_count": null,
   "id": "0ff09532-8daf-49f2-9886-1bdfaa2b9105",
   "metadata": {},
   "outputs": [],
   "source": [
    "np.random.seed(21) # 21 42\n",
    "\n",
    "data1 = np.random.normal(loc=50, scale=10, size=100)\n",
    "data2 = np.random.normal(loc=55, scale=10, size=100)\n",
    "\n",
    "plt.figure(figsize=(10, 5))\n",
    "sns.histplot(data1, label='Średnia 50', kde=True, color='blue', alpha=0.6)\n",
    "sns.histplot(data2, label='Średnia 55', kde=True, color='red', alpha=0.6)\n",
    "plt.legend()\n",
    "plt.title(\"Rozkład dwóch grup\")\n",
    "plt.show()"
   ]
  },
  {
   "cell_type": "markdown",
   "id": "9c3f1221-0eeb-49fe-8aa7-3d22a8922119",
   "metadata": {},
   "source": [
    "### Ćwiczenie 1: \n",
    "Sprawdź, jak zmieniają się histogramy po zwiększeniu liczby próbek do 500."
   ]
  },
  {
   "cell_type": "markdown",
   "id": "a16dcd2d-a6b1-4963-a4bd-0c95ecf27153",
   "metadata": {},
   "source": [
    "## Test t-Studenta dla dwóch prób niezależnych"
   ]
  },
  {
   "cell_type": "code",
   "execution_count": null,
   "id": "8e286780",
   "metadata": {},
   "outputs": [],
   "source": [
    "alpha = 0.05"
   ]
  },
  {
   "cell_type": "code",
   "execution_count": null,
   "id": "4eb2c142-44d0-4c9f-8e4d-b2b0afc402e5",
   "metadata": {},
   "outputs": [],
   "source": [
    "# Wczytanie wbudowanego zbioru danych\n",
    "penguins = sns.load_dataset(\"penguins\").dropna()\n",
    "penguins.head()\n",
    "\n",
    "# Wybór dwóch grup do porównania (gatunki Adelie i Gentoo)\n",
    "adelie = penguins[penguins.species == \"Adelie\"][\"body_mass_g\"]\n",
    "gentoo = penguins[penguins.species == \"Gentoo\"][\"body_mass_g\"]\n",
    "\n",
    "plt.figure(figsize=(10, 5))\n",
    "sns.histplot(adelie, label='Masa Adelie', kde=True, color='blue', alpha=0.6)\n",
    "sns.histplot(gentoo, label='Masa Gentoo', kde=True, color='red', alpha=0.6)\n",
    "plt.legend()\n",
    "plt.title(\"Rozkład mas dwóch gatunków pingwinów\")\n",
    "plt.show()\n",
    "\n",
    "# Test t-Studenta (czy średnie mas ciała się różnią?)\n",
    "t_stat, p_value = stats.ttest_ind(adelie, gentoo)\n",
    "#\n",
    "print(f\"Test t-Studenta: t-stat = {t_stat:.4f}, p-wartość = {p_value:.4f}\")\n",
    "\n",
    "if p_value < alpha:\n",
    "    print(\"Odrzucamy hipotezę zerową: średnie się różnią.\")\n",
    "else:\n",
    "    print(\"Nie ma podstaw podstaw statystycznych do odrzucenia hipotezy zerowej: średnie są podobne.\")"
   ]
  },
  {
   "cell_type": "code",
   "execution_count": null,
   "id": "a4bbe1a6-b6c4-4875-9427-99d3c85f24fc",
   "metadata": {},
   "outputs": [],
   "source": [
    "# Sprawdzamy, czy średnie wartości obu grup są istotnie różne.\n",
    "t_stat, p_value = stats.ttest_ind(data1, data2)\n",
    "print(f\"Test t-Studenta: t-stat = {t_stat:.4f}, p-wartość = {p_value:.4f}\")\n",
    "\n",
    "# Czy wynik jest statystycznie istotny? Przyjmijmy poziom istotności alpha = 0.05\n",
    "alpha = 0.05\n",
    "if p_value < alpha:\n",
    "    print(\"Odrzucamy hipotezę zerową: średnie się różnią.\")\n",
    "else:\n",
    "    print(\"Nie ma podstaw podstaw statystycznych do odrzucenia hipotezy zerowej: średnie są podobne.\")"
   ]
  },
  {
   "cell_type": "markdown",
   "id": "ec561da3-daab-4da5-89fd-d9e18117cc8e",
   "metadata": {},
   "source": [
    "### Ćwiczenie 2: \n",
    "Zmień średnią jednej z grup i sprawdź, jak wpływa to na wynik testu."
   ]
  },
  {
   "cell_type": "code",
   "execution_count": null,
   "id": "60511ecf",
   "metadata": {},
   "outputs": [],
   "source": []
  },
  {
   "cell_type": "markdown",
   "id": "23159580-ab1f-4bd8-a397-3a61ddeda7ef",
   "metadata": {},
   "source": [
    "## Test t-Studenta dla prób zależnych (test dla danych sparowanych)"
   ]
  },
  {
   "cell_type": "code",
   "execution_count": null,
   "id": "f43cf991-be95-4b66-8f6d-cd18d441499f",
   "metadata": {},
   "outputs": [],
   "source": [
    "# W przypadku pomiarów przed i po interwencji\n",
    "np.random.seed(42) \n",
    "before = np.random.normal(60, 8, 30)\n",
    "after = before + np.random.normal(2, 16, 30)\n",
    "\n",
    "plt.figure(figsize=(10, 5))\n",
    "sns.histplot(before, label='Przed', kde=True, color='blue', alpha=0.6)\n",
    "sns.histplot(after, label='Po interwencji', kde=True, color='red', alpha=0.6)\n",
    "plt.legend()\n",
    "plt.title(\"Rozkład dwóch grup\")\n",
    "plt.show()\n",
    "\n",
    "t_stat_paired, p_value_paired = stats.ttest_rel(before, after)\n",
    "print(f\"Test t-Studenta dla prób zależnych: t-stat = {t_stat_paired:.4f}, p-wartość = {p_value_paired:.4f}\")\n",
    "\n",
    "if p_value_paired < alpha:\n",
    "    print(\"Odrzucamy hipotezę zerową: średnie się różnią.\")\n",
    "else:\n",
    "    print(\"Nie ma podstaw podstaw statystycznych do odrzucenia hipotezy zerowej: średnie są podobne.\")\n"
   ]
  },
  {
   "cell_type": "markdown",
   "id": "240f4b48-f01b-446e-acab-16e6be0e3ad1",
   "metadata": {},
   "source": [
    "### Ćwiczenie 3: \n",
    "Zwiększ wariancję zmian po interwencji i sprawdź wynik testu."
   ]
  },
  {
   "cell_type": "code",
   "execution_count": null,
   "id": "3746d957-8fe6-4e75-a5fe-63027b44ad23",
   "metadata": {},
   "outputs": [],
   "source": []
  },
  {
   "cell_type": "markdown",
   "id": "27866f8e-b81b-46f8-bff1-c8dd22aa98f3",
   "metadata": {},
   "source": [
    "## Test chi-kwadrat dla tabeli kontyngencji"
   ]
  },
  {
   "cell_type": "code",
   "execution_count": null,
   "id": "43bd8a6c-0d06-49b1-b6a2-125ab1faccea",
   "metadata": {},
   "outputs": [],
   "source": [
    "# Wczytanie zbioru Titanic\n",
    "titanic = sns.load_dataset(\"titanic\").dropna()\n",
    "# Tworzenie tabeli kontyngencji (ile osób przeżyło w każdej klasie)\n",
    "contingency_table = pd.crosstab(titanic[\"class\"], titanic[\"survived\"])\n",
    "display(contingency_table)\n",
    "## Test chi-kwadrat\n",
    "chi2_stat, p_value, dof, expected = stats.chi2_contingency(contingency_table)\n",
    "# _, p_value, _, _ = stats.chi2_contingency(contingency_table) # jeżeli nie chcesz wszystkich return wartości\n",
    "\n",
    "print(f\"Test chi-kwadrat: Statystyka chi2: {chi2_stat:.2f} Wartość p: {p_value:.4f}\")\n",
    "\n",
    "if p_value < alpha:\n",
    "    print(\"Istnieją różnice między przeżywalnością między klasami.\")\n",
    "else:\n",
    "    print(\"Nie znaleziono podstaw statystycznych dla różnicy między przeżywalnością dla klas.\")"
   ]
  },
  {
   "cell_type": "code",
   "execution_count": null,
   "id": "4b6224fd-e964-46f6-be30-eadc0a741463",
   "metadata": {},
   "outputs": [],
   "source": [
    "data = pd.DataFrame(np.array([[300, 480], [200, 400]]) )\n",
    "data.columns = ['Produkt A', 'Produkt B']\n",
    "data.index = ['Lubi', 'Nie lubi']\n",
    "display(data)\n",
    "\n",
    "chi2_stat, p_val, dof, expected = stats.chi2_contingency(pd.DataFrame(data))\n",
    "print(f\"Test chi-kwadrat: statystyka = {chi2_stat:.4f}, p-wartość = {p_val:.4f}\")\n",
    "\n",
    "if p_val < alpha:\n",
    "    print(\"Istnieje zależność między preferencją a produktem.\")\n",
    "else:\n",
    "    print(\"Nie znaleziono podstaw statystycznych dla zależności między preferencją a produktem.\")"
   ]
  },
  {
   "cell_type": "code",
   "execution_count": null,
   "id": "e717cf95",
   "metadata": {},
   "outputs": [],
   "source": [
    "k = 480\n",
    "k/(400+k)"
   ]
  },
  {
   "cell_type": "markdown",
   "id": "ebe900ae-aead-4eb0-b3c5-c93ccff239aa",
   "metadata": {},
   "source": [
    "### Ćwiczenie 4\n",
    "Zmień wartości w tabeli i sprawdź, kiedy test wykryje zależność."
   ]
  },
  {
   "cell_type": "code",
   "execution_count": null,
   "id": "8943a15b-6fcb-4567-9833-ba55a23d16fe",
   "metadata": {},
   "outputs": [],
   "source": []
  },
  {
   "cell_type": "markdown",
   "id": "8d779a4e-6ba5-4446-a538-4b68cb34ab07",
   "metadata": {},
   "source": [
    "## Test normalności (test Shapiro-Wilka)\n",
    "Test sprawdzający `H0: czy zbiór jest z rozkładu normalnego`"
   ]
  },
  {
   "cell_type": "code",
   "execution_count": null,
   "id": "8a28fc75-697b-4384-84bc-c0365c8f436c",
   "metadata": {},
   "outputs": [],
   "source": [
    "shapiro_test = stats.shapiro(data1)\n",
    "print(f\"Test Shapiro-Wilka dla Grupy 1: Wartość statystyki = {shapiro_test.statistic:.4f}, p-wartość = {shapiro_test.pvalue:.4f}\")\n",
    "\n",
    "if shapiro_test.pvalue < alpha:\n",
    "    print(\"Dane nie mają rozkładu normalnego.\")\n",
    "else:\n",
    "    print(\"Nie znaleziono podstaw by odrzucić rozkład normalny w danych.\")"
   ]
  },
  {
   "cell_type": "markdown",
   "id": "9c0980fe-211d-45a7-9530-b86a88e3d3b9",
   "metadata": {},
   "source": [
    "### Ćwiczenie 5: \n",
    "Wygeneruj dane o rozkładzie średnia `k` zmiennych z rozkładu wykładniczego (`np.random.exponential`) i sprawdź wynik testu dla `k` równego\n",
    "\n",
    "a) 5,\n",
    "\n",
    "b) 10,\n",
    "\n",
    "c) 100,\n",
    "\n",
    "d) 1000 "
   ]
  },
  {
   "cell_type": "code",
   "execution_count": null,
   "id": "cc44b24c-abdc-4ff6-923e-56ccba392175",
   "metadata": {},
   "outputs": [],
   "source": [
    "X = np.random.exponential(scale = 5, size = [5000, 1000]).mean(axis = 1)\n",
    "shapiro_test = stats.shapiro(X)\n",
    "print(f\"Test Shapiro-Wilka dla Grupy 1: Wartość statystyki = {shapiro_test.statistic:.4f}, p-wartość = {shapiro_test.pvalue:.4f}\")\n",
    "\n",
    "if shapiro_test.pvalue < alpha:\n",
    "    print(\"Dane nie mają rozkładu normalnego.\")\n",
    "else:\n",
    "    print(\"Nie znaleziono podstaw by odrzucić rozkład normalny w danych.\")\n",
    "    \n",
    "plt.hist(X, bins = 50)\n",
    "plt.show()"
   ]
  },
  {
   "cell_type": "markdown",
   "id": "6be2b515-3fee-4d94-a3e1-6ce704bf0fa1",
   "metadata": {},
   "source": [
    "## Test U Manna-Whitneya (test nieparametryczny dla dwóch niezależnych grup)\n",
    "Test sprawdzający równość rozkładów nie wymagający rozkładu normalnego wśród zmiennych (test nieparametryczny)."
   ]
  },
  {
   "cell_type": "code",
   "execution_count": null,
   "id": "99bb8149-261c-477d-891e-ccae90e653ee",
   "metadata": {},
   "outputs": [],
   "source": [
    "np.random.seed(21)\n",
    "data1 = np.random.normal(0,10,size = [10000,1])\n",
    "data2 = np.random.normal(1,1000,size = [10000,1])\n",
    "\n",
    "mannwhitney_test = stats.mannwhitneyu(data1, data2)\n",
    "\n",
    "print(f\"Test U Manna-Whitneya: Wartość statystyki = {mannwhitney_test.statistic[0]:.4f}, p-wartość = {mannwhitney_test.pvalue[0]:.4f}\")\n",
    "\n",
    "if mannwhitney_test.pvalue < alpha:\n",
    "    print(\"Odrzucamy hipotezę zerową: rozkłady są różne.\")\n",
    "else:\n",
    "    print(\"Nie ma podstaw do odrzucenia hipotezy zerowej: rozkłady są podobne.\")\n",
    "    \n"
   ]
  },
  {
   "cell_type": "markdown",
   "id": "40bbeb8e-c697-4a5e-8705-156144494500",
   "metadata": {},
   "source": [
    "### Ćwiczenie 6: \n",
    "Zmień liczbę próbek w grupach i parametry wariancji i zobacz, jak wpływa to na wynik testu."
   ]
  },
  {
   "cell_type": "code",
   "execution_count": null,
   "id": "d3ba70b9-ed80-496a-b6ec-7b63db015e72",
   "metadata": {},
   "outputs": [],
   "source": [
    "plt.figure(figsize=(10, 5))\n",
    "sns.histplot(data1, label='data1', kde=True, color='blue', alpha=0.6)\n",
    "sns.histplot(data2, label='data2', kde=True, color='red', alpha=0.6)\n",
    "plt.legend()\n",
    "plt.title(\"Rozkład dwóch grup\")\n",
    "plt.show()\n"
   ]
  }
 ],
 "metadata": {
  "kernelspec": {
   "display_name": "Python 3 (ipykernel)",
   "language": "python",
   "name": "python3"
  },
  "language_info": {
   "codemirror_mode": {
    "name": "ipython",
    "version": 3
   },
   "file_extension": ".py",
   "mimetype": "text/x-python",
   "name": "python",
   "nbconvert_exporter": "python",
   "pygments_lexer": "ipython3",
   "version": "3.12.7"
  }
 },
 "nbformat": 4,
 "nbformat_minor": 5
}
