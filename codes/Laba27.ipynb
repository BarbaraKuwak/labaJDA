{
 "cells": [
  {
   "cell_type": "markdown",
   "id": "a58fb85b-e2ca-45e5-ae91-4c9f7be7b5de",
   "metadata": {},
   "source": [
    "#  Wprowadzenie do modelowania w Pythonie cz. 1\n",
    "importowanie bibliotek i wczytywanie danych"
   ]
  },
  {
   "cell_type": "code",
   "execution_count": null,
   "id": "d3f29297-117d-48fc-825e-2621514cba73",
   "metadata": {},
   "outputs": [],
   "source": [
    "import pandas as pd\n",
    "import numpy as np\n",
    "import matplotlib.pyplot as plt\n",
    "import seaborn as sns\n",
    "from sklearn.model_selection import train_test_split # podział na zbiór treningowy i testowy\n",
    "from sklearn.linear_model import LinearRegression # model Regresji liniowej\n",
    "from sklearn.metrics import mean_squared_error, r2_score \n",
    "from scipy.stats import pointbiserialr, shapiro\n",
    "\n",
    "# Wczytanie zbioru IRYS\n",
    "iris = sns.load_dataset(\"iris\")\n",
    "print(\"Podgląd danych IRYS:\")\n",
    "display(iris.head())\n",
    "\n",
    "# Wczytanie danych CO2\n",
    "co2 = pd.read_csv(\"https://raw.githubusercontent.com/jisokolowski/labaJDA/main/input/co2_emmission/CO2_emission.csv\")\n",
    "display(co2)"
   ]
  },
  {
   "cell_type": "markdown",
   "id": "3243ee91-7702-4858-9d20-04bc21dcdebd",
   "metadata": {},
   "source": [
    "## Analiza korelacji"
   ]
  },
  {
   "cell_type": "code",
   "execution_count": null,
   "id": "1a440634-7d90-4137-9aea-38b3583d3333",
   "metadata": {},
   "outputs": [],
   "source": [
    "# Analiza korelacji dla zbioru IRYS\n",
    "correlation_matrix = iris.drop(columns = 'species').corr()\n",
    "plt.figure(figsize=(8,6))\n",
    "sns.heatmap(correlation_matrix, annot=True, cmap='coolwarm', fmt='.2f')\n",
    "plt.title(\"Macierz korelacji dla zbioru IRYS\")\n",
    "plt.show()"
   ]
  },
  {
   "cell_type": "code",
   "execution_count": null,
   "id": "6f46c898-9ff0-4997-8280-da3d06ff0eef",
   "metadata": {},
   "outputs": [],
   "source": [
    "display(pointbiserialr(np.array(iris['species'] == 'setosa'), np.array(iris['sepal_length'])).statistic)\n",
    "display(pointbiserialr(np.array(iris['species'] == 'versicolor'), np.array(iris['sepal_length'])).statistic)\n",
    "display(pointbiserialr(np.array(iris['species'] == 'virginica'), np.array(iris['sepal_length'])).statistic)"
   ]
  },
  {
   "cell_type": "code",
   "execution_count": null,
   "id": "b41899b4-efc8-43ca-90b5-25c24a2b1eff",
   "metadata": {},
   "outputs": [],
   "source": [
    "## Pair plot\n",
    "sns.pairplot(iris, hue = 'species')\n",
    "plt.show()"
   ]
  },
  {
   "cell_type": "code",
   "execution_count": null,
   "id": "aa1b3bf4-962a-42d8-b34f-0999acd49f6d",
   "metadata": {},
   "outputs": [],
   "source": [
    "# Wybór zmiennych na podstawie korelacji\n",
    "features_irys = ['petal_width', 'petal_length', 'species']\n",
    "X_iris = iris[features_irys]\n",
    "\n",
    "# Dodawanie zmiennych dummy\n",
    "X_iris = pd.get_dummies(X_iris, drop_first = True)\n",
    "\n",
    "y_iris = iris['sepal_length']"
   ]
  },
  {
   "cell_type": "markdown",
   "id": "188ce87d-841f-4d4f-a67c-377b24c3a4ab",
   "metadata": {},
   "source": [
    "### Ćwiczenie:\n",
    "Sprawdź korelację dla zbioru `co2`. \n",
    "Które zmienne wybrałbyś do modelowania CO2_Emissions?"
   ]
  },
  {
   "cell_type": "markdown",
   "id": "733bce03-289e-458b-8c46-64202091d1fe",
   "metadata": {},
   "source": [
    "## Podział na zbiory treningowe i testowe (80% trening, 20% test)"
   ]
  },
  {
   "cell_type": "code",
   "execution_count": null,
   "id": "26097489-611e-4aa1-a8ac-a1c436e0e103",
   "metadata": {},
   "outputs": [],
   "source": [
    "X_train_iris, X_test_iris, y_train_iris, y_test_iris = train_test_split(X_iris, y_iris, test_size=0.2, random_state=42)"
   ]
  },
  {
   "cell_type": "markdown",
   "id": "dbd5ad39-4330-43ea-8e73-e893bb8a1a10",
   "metadata": {},
   "source": [
    "### Ćwiczenie:\n",
    "Podziel zbiór dla `co2`"
   ]
  },
  {
   "cell_type": "code",
   "execution_count": null,
   "id": "56ea0cf1-5d6a-4a41-9254-0fbe4b7999f5",
   "metadata": {},
   "outputs": [],
   "source": []
  },
  {
   "cell_type": "markdown",
   "id": "502082b3-28e6-4f84-b535-f9d439721ce3",
   "metadata": {},
   "source": [
    "## Tworzenie i trenowanie modelu regresji liniowej dla IRIS"
   ]
  },
  {
   "cell_type": "code",
   "execution_count": null,
   "id": "e810464f-3488-47c8-ab4a-c3d25b662128",
   "metadata": {},
   "outputs": [],
   "source": [
    "# Tworzenie modelu\n",
    "model_iris = LinearRegression()\n",
    "model_iris.fit(X = X_train_iris, y = y_train_iris)\n",
    "\n",
    "# Predykcja wartości testowych\n",
    "y_pred_iris = model_iris.predict(X_test_iris)"
   ]
  },
  {
   "cell_type": "code",
   "execution_count": null,
   "id": "5ccc4712",
   "metadata": {},
   "outputs": [],
   "source": [
    "model_iris.coef_"
   ]
  },
  {
   "cell_type": "code",
   "execution_count": null,
   "id": "f6ea2d33",
   "metadata": {},
   "outputs": [],
   "source": [
    "X_train_iris"
   ]
  },
  {
   "cell_type": "code",
   "execution_count": null,
   "id": "35126ae4",
   "metadata": {},
   "outputs": [],
   "source": [
    "model_iris.intercept_"
   ]
  },
  {
   "cell_type": "markdown",
   "id": "5e7b593a",
   "metadata": {},
   "source": [
    "Model `model_iris` zakłada, że `sepal_length = -0.1314786 * petal_width + 0.9778683  * petal_length -1.65857536 * species_versicolor -2.2063472 * species_virginica + 3.604303215678032`"
   ]
  },
  {
   "cell_type": "markdown",
   "id": "026ff409-708a-4341-9648-0e7cf13eaae7",
   "metadata": {},
   "source": [
    "### Ćwiczenie:\n",
    "Policz predykcje dla zioru uczącego"
   ]
  },
  {
   "cell_type": "code",
   "execution_count": null,
   "id": "1a0f1baa",
   "metadata": {},
   "outputs": [],
   "source": []
  },
  {
   "cell_type": "markdown",
   "id": "3c5d1119-2743-418d-8402-3f75475c41b3",
   "metadata": {},
   "source": [
    "### Ćwiczenie:\n",
    "Powtórz kroki dla zbioru `co2`"
   ]
  },
  {
   "cell_type": "code",
   "execution_count": null,
   "id": "088c72b7-4a92-4a8e-84e3-f186ffcbae8f",
   "metadata": {},
   "outputs": [],
   "source": []
  },
  {
   "cell_type": "markdown",
   "id": "5b7d2c69-c132-4b7e-aa3a-5d58fbc5006d",
   "metadata": {},
   "source": [
    "## Obliczenie metryk jakości modelu\n"
   ]
  },
  {
   "cell_type": "code",
   "execution_count": null,
   "id": "af87bcbc-882f-4766-8ab2-f08df703c10f",
   "metadata": {},
   "outputs": [],
   "source": [
    "rmse_iris = np.sqrt(mean_squared_error(y_test_iris, y_pred_iris))\n",
    "r2_iris = r2_score(y_test_iris, y_pred_iris)\n",
    "print(f'IRIS - RMSE: {rmse_iris}')\n",
    "print(f'IRIS - R2 Score: {np.round(r2_iris,2)}')"
   ]
  },
  {
   "cell_type": "markdown",
   "id": "62d63349-391d-434a-89ec-31c33f064b8a",
   "metadata": {},
   "source": [
    "### Ćwiczenie:\n",
    "Oblicz metryki dla zioru treningowego.\n",
    "Czy widać znaczną różnicę?"
   ]
  },
  {
   "cell_type": "code",
   "execution_count": null,
   "id": "38a72db9-64df-41af-b4c7-fe0c3431753b",
   "metadata": {},
   "outputs": [],
   "source": []
  },
  {
   "cell_type": "markdown",
   "id": "87ac05d6-835a-4bb4-a967-4e5726f282ba",
   "metadata": {},
   "source": [
    "### Ćwiczenie:\n",
    "Usuń kolumnę `species`, wytrenuj model i sprawdź wyniki"
   ]
  },
  {
   "cell_type": "code",
   "execution_count": null,
   "id": "c05a5c51",
   "metadata": {},
   "outputs": [],
   "source": []
  },
  {
   "cell_type": "markdown",
   "id": "ac40388b-c290-4034-bdc9-9a6809d08630",
   "metadata": {},
   "source": [
    "### Ćwiczenie:\n",
    "Powtórz kroki dla zbioru `co2`"
   ]
  },
  {
   "cell_type": "code",
   "execution_count": null,
   "id": "0ce0d9fa",
   "metadata": {},
   "outputs": [],
   "source": []
  },
  {
   "cell_type": "markdown",
   "id": "da62c898-0f04-40c2-937c-b0b63b78e0aa",
   "metadata": {},
   "source": [
    "## Sprawdzanie założeń regresji dla IRIS (normalny rozkład reszt)"
   ]
  },
  {
   "cell_type": "code",
   "execution_count": null,
   "id": "9ef6937c-7839-423c-aa85-ecf21562d5ca",
   "metadata": {},
   "outputs": [],
   "source": [
    "residuals_iris = y_test_iris - y_pred_iris\n",
    "plt.figure(figsize=(8,6))\n",
    "sns.histplot(residuals_iris, kde=True)\n",
    "plt.title(\"Histogram reszt dla IRIS\")\n",
    "plt.show()\n",
    "\n",
    "alpha = 0.05\n",
    "shapiro_test = shapiro(y_test_iris - y_pred_iris)\n",
    "print(f\"Test Shapiro-Wilka dla Grupy 1: Wartość statystyki = {shapiro_test.statistic:.4f}, p-wartość = {shapiro_test.pvalue:.4f}\")\n",
    "\n",
    "if shapiro_test.pvalue < alpha:\n",
    "    print(\"Dane nie mają rozkładu normalnego.\")\n",
    "else:\n",
    "    print(\"Nie znaleziono podstaw by odrzucić rozkład normalny w danych.\")"
   ]
  },
  {
   "cell_type": "markdown",
   "id": "a6fb281a-142e-44ae-96ad-9d21210326cb",
   "metadata": {},
   "source": [
    "## Wizualizacja wyników regresji liniowej"
   ]
  },
  {
   "cell_type": "code",
   "execution_count": null,
   "id": "c3cc7b20-cf94-421c-b45b-d88a0e3a9664",
   "metadata": {},
   "outputs": [],
   "source": [
    "# Wizualizacja wyników regresji liniowej\n",
    "plt.figure(figsize=(8, 6))\n",
    "sns.scatterplot(x=y_test_iris, y=y_pred_iris)\n",
    "plt.xlabel(\"Rzeczywiste wartości\")\n",
    "plt.ylabel(\"Przewidywane wartości\")\n",
    "plt.title(\"Regresja liniowa: rzeczywiste vs przewidywane (IRIS)\")\n",
    "plt.show()\n"
   ]
  },
  {
   "cell_type": "code",
   "execution_count": null,
   "id": "d8415b41",
   "metadata": {},
   "outputs": [],
   "source": [
    "sns.regplot(x = y_test_iris, y=y_pred_iris)\n",
    "plt.title('Relacja między zmiennymi objaśniającymi a zmienną objaśnianą')\n",
    "plt.show()"
   ]
  },
  {
   "cell_type": "markdown",
   "id": "dbfd512c-a6dd-4808-87a4-c50f21c28399",
   "metadata": {},
   "source": [
    "### Ćwiczenie:\n",
    "Powtórz kroki dla zbioru `co2`"
   ]
  },
  {
   "cell_type": "code",
   "execution_count": null,
   "id": "a01f8bc6-a0a7-4b80-a1ac-48d531386b0a",
   "metadata": {},
   "outputs": [],
   "source": []
  },
  {
   "cell_type": "markdown",
   "id": "e106175b-616d-45cb-b2d1-1629db11219f",
   "metadata": {},
   "source": [
    "## Reprezentatywność próby"
   ]
  },
  {
   "cell_type": "markdown",
   "id": "6ec355e6-4346-4b0e-9940-5b2cb0362cde",
   "metadata": {},
   "source": [
    "### Ćwiczenie:\n",
    "Podziel zbiór w alternatywny sposób zostawiającw zbiorze treningowym 2 gatunki, w testowym trzeci"
   ]
  }
 ],
 "metadata": {
  "kernelspec": {
   "display_name": "Python 3 (ipykernel)",
   "language": "python",
   "name": "python3"
  },
  "language_info": {
   "codemirror_mode": {
    "name": "ipython",
    "version": 3
   },
   "file_extension": ".py",
   "mimetype": "text/x-python",
   "name": "python",
   "nbconvert_exporter": "python",
   "pygments_lexer": "ipython3",
   "version": "3.12.7"
  }
 },
 "nbformat": 4,
 "nbformat_minor": 5
}
