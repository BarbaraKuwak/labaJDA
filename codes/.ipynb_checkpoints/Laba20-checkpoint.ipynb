{
 "cells": [
  {
   "cell_type": "markdown",
   "id": "543fbc91-4c3a-45ec-bc08-d0e155511b08",
   "metadata": {},
   "source": [
    "# Instalacja Pythona\n",
    "\n",
    "\n",
    "Ćwiczenie:\n",
    "\n",
    "1.   Pobierz i zainstaluj Anacondę z [anaconda.com/download](https://www.anaconda.com/download).\n",
    "2.   Otwórz Anaconda Navigator i uruchom Jupyter Notebook.\n",
    "3.   Utwórz nowy plik w Jupyter Notebook."
   ]
  },
  {
   "cell_type": "markdown",
   "id": "11df75c3-53af-48f1-a609-8e07bc35ec5d",
   "metadata": {},
   "source": [
    "# Instalacja paczek Python\n",
    "\n",
    "**Ćwiczenie:**\n",
    "\n",
    "1. Zainstaluj bibliotekę `polars` i `plotly` poleceniem:\n",
    "    \n",
    "```pip install polars```\n",
    "\n",
    "```pip install plotly```\n",
    "\n",
    "2. Sprawdź, czy instalacja się powiodła, importując je w skrypcie Python:"
   ]
  },
  {
   "cell_type": "code",
   "execution_count": null,
   "id": "24002f76-c0dd-42c4-a047-d3da1ccba638",
   "metadata": {},
   "outputs": [],
   "source": [
    "import polars\n",
    "import plotly\n",
    "print(\"Biblioteki działają poprawnie!\")"
   ]
  },
  {
   "cell_type": "markdown",
   "id": "2c5997f1-bdab-4632-b1c4-774ca03d5cbe",
   "metadata": {},
   "source": [
    "# Google Colab\n",
    "\n",
    "**Ćwiczenie:**\n",
    "\n",
    "1. Otwórz Google Colab colab.research.google.com.\n",
    "\n",
    "2. Utwórz nowy notatnik i wpisz poniższy kod:\n",
    "\n",
    "```print(\"Witaj w Google Colab!\")```\n",
    "\n",
    "3. Uruchom kod i zapisz plik na swoim Dysku Google."
   ]
  },
  {
   "cell_type": "markdown",
   "id": "ef13d8dd-c527-40e5-975c-5d65d10f5e4e",
   "metadata": {},
   "source": [
    "# Podstawowe typy danych\n",
    "**Ćwiczenie**:\n",
    "\n",
    "Zidentyfikuj typ danych w poniższych zmiennych:"
   ]
  },
  {
   "cell_type": "code",
   "execution_count": null,
   "id": "19e92875-c316-45f8-a9a3-f49308823614",
   "metadata": {},
   "outputs": [],
   "source": [
    "help(print)"
   ]
  },
  {
   "cell_type": "code",
   "execution_count": null,
   "id": "22db552f-49a1-45be-9fc0-e30699abfb9b",
   "metadata": {},
   "outputs": [],
   "source": [
    "x = 10\n",
    "y = 3.14\n",
    "z = \"Hello\"\n",
    "a = True\n",
    "b = [1, 2, 3]\n",
    "c = {\"key\": \"value\"}\n",
    "d = (10, 20)\n",
    "e = None"
   ]
  },
  {
   "cell_type": "code",
   "execution_count": null,
   "id": "4c39a3fb-f8a3-49ce-8f51-34d09a3cd294",
   "metadata": {},
   "outputs": [],
   "source": [
    "print(type(x)) # Sprawdzanie typu danych"
   ]
  },
  {
   "cell_type": "markdown",
   "id": "d538fdd0-361a-40e9-bd84-35723a59334c",
   "metadata": {},
   "source": [
    "# Podstawowe operacje na liczbach\n",
    "**Ćwiczenie:**\n",
    "\n",
    "Oblicz wynik wyrażeń:"
   ]
  },
  {
   "cell_type": "code",
   "execution_count": null,
   "id": "6faa4959-7bb2-43fa-8984-2282ffc02219",
   "metadata": {},
   "outputs": [],
   "source": [
    "x = 8\n",
    "y = 5\n",
    "print(x y) # dodawanie\n",
    "print(x y) # odejmowanie\n",
    "print(x y) # mnożenie\n",
    "print(x y) # dzielenie\n",
    "print(x y) # dzielenie bez reszty\n",
    "print(x y) # reszta z dzielenia\n",
    "print(x y) # potęgowanie"
   ]
  },
  {
   "cell_type": "markdown",
   "id": "823c58d0-43f5-4082-a188-a6bf97379a72",
   "metadata": {},
   "source": [
    "# Podstawowe operacje na tekstach\n",
    "\n",
    "**Ćwiczenie:**\n",
    "\n",
    "1. Połącz stringi \"spam\", \"bacon\" i \"eggs\" w jedną zmienną.\n",
    "\n",
    "2. Zamień wszystkie litery w zdaniu na wielkie.\n",
    "\n",
    "3. sprawdź czy "
   ]
  },
  {
   "cell_type": "code",
   "execution_count": null,
   "id": "26e58c31-35b2-414f-b31c-7deb982d20ff",
   "metadata": {},
   "outputs": [],
   "source": []
  }
 ],
 "metadata": {
  "kernelspec": {
   "display_name": "Python 3 (ipykernel)",
   "language": "python",
   "name": "python3"
  },
  "language_info": {
   "codemirror_mode": {
    "name": "ipython",
    "version": 3
   },
   "file_extension": ".py",
   "mimetype": "text/x-python",
   "name": "python",
   "nbconvert_exporter": "python",
   "pygments_lexer": "ipython3",
   "version": "3.10.9"
  }
 },
 "nbformat": 4,
 "nbformat_minor": 5
}
