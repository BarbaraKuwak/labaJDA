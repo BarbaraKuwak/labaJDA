{
 "cells": [
  {
   "cell_type": "markdown",
   "id": "d9cb3ea4",
   "metadata": {},
   "source": [
    "# Matematyka i statystyka w Pythonie"
   ]
  },
  {
   "cell_type": "code",
   "execution_count": null,
   "id": "573e3996",
   "metadata": {},
   "outputs": [],
   "source": [
    "import matplotlib.pyplot as plt\n",
    "import numpy as np\n",
    "import pandas as pd\n",
    "import seaborn as sns\n",
    "from scipy import stats\n"
   ]
  },
  {
   "cell_type": "markdown",
   "id": "248d402f",
   "metadata": {},
   "source": [
    "## Tworzenie tablic"
   ]
  },
  {
   "cell_type": "code",
   "execution_count": null,
   "id": "bb469287",
   "metadata": {},
   "outputs": [],
   "source": [
    "# Jednowymiarowa\n",
    "tab1d = np.array([2,1,7,3])\n",
    "print(tab1d)\n",
    "\n",
    "# Wielowymiarowa (dwuwymiarowa - Macierz)\n",
    "tab2d = np.array([[1,8,4,8], [2,1,7,3]])\n",
    "print(tab2d)\n",
    "tab2d = np.array([[1,8,4,8], tab1d])\n",
    "print(tab2d)"
   ]
  },
  {
   "cell_type": "markdown",
   "id": "7f5c295f",
   "metadata": {},
   "source": [
    "### Ćwiczenie: \n",
    "Spróbuj stworzyć tablicę z liczbami od 10 do 1"
   ]
  },
  {
   "cell_type": "code",
   "execution_count": null,
   "id": "3c18ec04",
   "metadata": {},
   "outputs": [],
   "source": []
  },
  {
   "cell_type": "markdown",
   "id": "8dd32142",
   "metadata": {},
   "source": [
    "##  Tworzenie tablic specjalnych"
   ]
  },
  {
   "cell_type": "code",
   "execution_count": null,
   "id": "6f7824c8",
   "metadata": {},
   "outputs": [],
   "source": [
    "x = np.zeros((3,3))  # macierz zer\n",
    "print(\"Macierz zer\\n\", x)\n",
    "x = np.ones((2,2))   # macierz jedynek\n",
    "print(\"Macierz jedynek\\n\", x)\n",
    "x = np.eye(3)        # macierz jednostkowa\n",
    "print(\"Macierz zer\\n\", x)\n",
    "x = np.linspace(0, 10, 5)  # 5 równo rozmieszczonych wartości między 0 a 10\n",
    "print(\"Macierz równo rozmieszczonych wartości\\n\", x)\n",
    "x = np.arange(0, 10, 0.5)    # wartości od 0 do 10 co 2\n",
    "print(\"Ciąg \\n\", x)"
   ]
  },
  {
   "cell_type": "markdown",
   "id": "43e2dab1",
   "metadata": {},
   "source": [
    "### Ćwiczenie: \n",
    "Stwórz macierz zerową o wymiarach 5x3"
   ]
  },
  {
   "cell_type": "code",
   "execution_count": null,
   "id": "7b5f8d47",
   "metadata": {},
   "outputs": [],
   "source": []
  },
  {
   "cell_type": "markdown",
   "id": "1ede29fd",
   "metadata": {},
   "source": [
    "## Operacje matematyczne\n",
    " Oblicz średnią, wariancję i odchylenie standardowe dla macierzy 5x3"
   ]
  },
  {
   "cell_type": "code",
   "execution_count": null,
   "id": "1bea3a82",
   "metadata": {},
   "outputs": [],
   "source": [
    "#np.random.seed(0) # ustawienie ziarna - te same wartości\n",
    "\n",
    "mat_5x3 = np.random.randint(0, 15, (5, 3))\n",
    "print(mat_5x3)\n",
    "\n",
    "srednia = mat_5x3.mean()\n",
    "wariancja = mat_5x3.var()\n",
    "odchylenie = mat_5x3.std()\n",
    "print(f\"\\nŚrednia: {srednia:.2f}, \\nWariancja: {wariancja:.2f}, \\nOdchylenie standardowe: {odchylenie:.2f}\")\n",
    "#\n",
    "\n",
    "srednia_wierszy = np.mean(mat_5x3, axis=1)\n",
    "print(f\"\\nŚrednia wierszy: \", srednia_wierszy, )"
   ]
  },
  {
   "cell_type": "markdown",
   "id": "a5dcfe89",
   "metadata": {},
   "source": [
    "### Ćwiczenie: \n",
    "Oblicz sumę wszystkich elementów macierzy `mat_5x3`"
   ]
  },
  {
   "cell_type": "code",
   "execution_count": null,
   "id": "f9f072d7",
   "metadata": {},
   "outputs": [],
   "source": []
  },
  {
   "cell_type": "markdown",
   "id": "9b6bd2ca",
   "metadata": {},
   "source": [
    "## Operacje na macierzach"
   ]
  },
  {
   "cell_type": "code",
   "execution_count": null,
   "id": "3944ef2c",
   "metadata": {},
   "outputs": [],
   "source": [
    "# Tworzenie macierzy 2x2 i ich dodawanie i mnożenie\n",
    "A = np.array([[1, 2], [3, 4]])\n",
    "B = np.array([[5, 6], [7, 8]])\n",
    "print(\"Macierz A:\\n\", A)\n",
    "print(\"Macierz B:\\n\", B)\n",
    "print(\"\\nDodawanie macierzy:\\n\", A + B)\n",
    "print(\"\\nMnożenie macierzy elementami:\\n\", A * B)\n",
    "#print(\"\\nMnożenie macierzy:\\n\", A @ B) # Nie przejmujcie się jak to się liczy!\n"
   ]
  },
  {
   "cell_type": "markdown",
   "id": "c82f079d",
   "metadata": {},
   "source": [
    "## Indeksowanie i modyfikacja danych\n"
   ]
  },
  {
   "cell_type": "code",
   "execution_count": null,
   "id": "f6da0201",
   "metadata": {},
   "outputs": [],
   "source": [
    "# Indekowanie array\n",
    "print(\"Macierz:\\n\", mat_5x3)\n",
    "print(\"Wiersz 0 i kolumna 1\\n\",mat_5x3[0,1])\n",
    "print(\"Wiersze 1-2, wszystkie kolumny\\n\", mat_5x3[1:3,:])\n",
    "#\n",
    "#Zamiana wszystkich elementów większe niż 5 w macierzy 3x3 na 0\n",
    "mat_5x3[mat_5x3 > 5] = 0\n",
    "print(\"\\nMacierz po zmianach:\\n\", mat_5x3)"
   ]
  },
  {
   "cell_type": "markdown",
   "id": "dd97ae47",
   "metadata": {},
   "source": [
    "### Ćwiczenie: \n",
    "1. Wylistuj całą kolumnę o indeksie 1.\n",
    "2. Zamień jej wszystkie wartości mniejsze niż 3 na -1"
   ]
  },
  {
   "cell_type": "code",
   "execution_count": null,
   "id": "e84025c0",
   "metadata": {},
   "outputs": [],
   "source": []
  },
  {
   "cell_type": "markdown",
   "id": "d24ad251",
   "metadata": {},
   "source": [
    "## Podstawowe rozkłady statystyczne"
   ]
  },
  {
   "cell_type": "code",
   "execution_count": null,
   "id": "9d5f5717",
   "metadata": {},
   "outputs": [],
   "source": [
    "n = 5000  # Liczba losowanych wartości\n",
    "\n",
    "# Rozkład normalny\n",
    "m = 0  # Średnia\n",
    "s = 1  # Odchylenie standardowe\n",
    "#dane_normalne = np.random.normal(loc = m, scale = s, size = n)  # Generowanie losowych wartości\n",
    "##print(np.round(dane_normalne, 2))\n",
    "#plt.hist(dane_normalne, bins=300, \n",
    "#         density=True, # Gestość - Jeżeli chcemy porównać z teoretycznym rozkładem True\n",
    "#         alpha=0.6, color='g', label='Histogram')\n",
    "#\n",
    "#\n",
    "#x = np.linspace(min(dane_normalne), max(dane_normalne), 100)\n",
    "#plt.plot(x, stats.norm.pdf(x, m, s), 'r-', lw=2, label='Funkcja gęstości') # Teoretyczna gęstość\n",
    "#plt.title(\"Rozkład normalny\")\n",
    "#plt.legend()\n",
    "#plt.show()\n",
    "\n",
    "## Rozkład dwumianowy\n",
    "#k = 100  # Liczba prób\n",
    "#p = 0.5  # Prawdopodobieństwo sukcesu\n",
    "#dane_binom = np.random.binomial(k, p, n)  # Generowanie losowych wartości\n",
    "#plt.hist(dane_binom, bins=np.arange(0, k+2)-0.5, density=True, alpha=0.6, color='g', label='Histogram')\n",
    "#x = np.arange(0, k+1)\n",
    "#plt.scatter(x, stats.binom.pmf(x, k, p), color='r', zorder=2, label='Prawdopodobieństwo')\n",
    "#plt.title(\"Rozkład dwumianowy\")\n",
    "#plt.legend()\n",
    "#plt.show()\n",
    "#\n",
    "# Rozkład wykładniczy\n",
    "lam = 3  # Parametr lambda\n",
    "dane_expon = np.random.exponential(lam, n)  # Generowanie losowych wartości\n",
    "plt.hist(dane_expon, bins=30, density=True, alpha=0.6, color='g', label='Histogram')\n",
    "x = np.linspace(min(dane_expon), max(dane_expon), 100)\n",
    "plt.plot(x, stats.expon.pdf(x, 0, lam), 'r-', lw=2, label='Funkcja gęstości')\n",
    "plt.title(\"Rozkład wykładniczy\")\n",
    "plt.legend()\n",
    "plt.show()\n",
    "#\n",
    "### Rozkład Poissona\n",
    "#lam = 3  # Średnia liczba zdarzeń\n",
    "#dane_poisson = np.random.poisson(lam, n)  # Generowanie losowych wartości\n",
    "#plt.hist(dane_poisson, bins=np.arange(0, max(dane_poisson)+1)-0.5, density=True, alpha=0.6, color='g', label='Histogram')\n",
    "#x = np.arange(0, 11)\n",
    "#plt.scatter(x, stats.poisson.pmf(x, lam), color='r', zorder=2, label='Prawdopodobieństwo')\n",
    "#plt.title(\"Rozkład Poissona\")\n",
    "#plt.legend()\n",
    "#plt.show()\n",
    "##"
   ]
  },
  {
   "cell_type": "markdown",
   "id": "d6ad5c0f",
   "metadata": {},
   "source": [
    "## Korelacja w danych"
   ]
  },
  {
   "cell_type": "code",
   "execution_count": null,
   "id": "90e620f9",
   "metadata": {},
   "outputs": [],
   "source": [
    "x = np.random.rand(100)-0.5 # Generowanie zmiennej\n",
    "#print(x)\n",
    "y = x*x + np.random.normal(0, 0.01, 100) # Generowanie innej zmiennej zależnej od x\n",
    "#print(y)\n",
    "korelacja = np.corrcoef(x, y)[0, 1]\n",
    "print(\"\\nKorelacja między danymi:\", korelacja)\n",
    "\n",
    "sns.scatterplot(x = x, y = y)\n",
    "plt.show()"
   ]
  },
  {
   "cell_type": "markdown",
   "id": "02d9b952",
   "metadata": {},
   "source": [
    "### Ćwiczenie: \n",
    "Spróbuj zmienić równanie dla y i zobacz, jak wpływa to na korelację"
   ]
  },
  {
   "cell_type": "code",
   "execution_count": null,
   "id": "4fb879dc",
   "metadata": {},
   "outputs": [],
   "source": []
  },
  {
   "cell_type": "markdown",
   "id": "7a73c95b",
   "metadata": {},
   "source": [
    "## Centralne Twierdzenie Graniczne"
   ]
  },
  {
   "cell_type": "code",
   "execution_count": null,
   "id": "3d725f29",
   "metadata": {},
   "outputs": [],
   "source": [
    "# Zademonstruj Centralne Twierdzenie Graniczne, sumując losowe próbki\n",
    "proby = 10000\n",
    "lam = 5\n",
    "rozmiar_probki = 500\n",
    "# Generowanie średnich\n",
    "srednie = [np.mean(np.random.exponential(lam, rozmiar_probki)) for _ in range(proby)]\n",
    "\n",
    "# Wykres funkcji gęstości rozkładu Gaussa z odpowiadającą średnią i odchyleniem\n",
    "# Nie przejmujcie się skąd się biorą te wartościami!!! :)\n",
    "m = lam\n",
    "s = lam / np.sqrt(rozmiar_probki)\n",
    "x = np.linspace(min(srednie), max(srednie), 100)\n",
    "plt.plot(x, stats.norm.pdf(x, m, s), 'r-', lw=2, label='Funkcja gęstości normalnego')\n",
    "\n",
    "plt.hist(srednie, bins=50, density=True)\n",
    "plt.title(\"Centralne Twierdzenie Graniczne\")\n",
    "plt.show()"
   ]
  },
  {
   "cell_type": "markdown",
   "id": "3e80e06b",
   "metadata": {},
   "source": [
    "### Ćwiczenie: \n",
    "Spróbuj zwiększyć liczbę prób i zobacz, jak zmienia się wykres"
   ]
  },
  {
   "cell_type": "code",
   "execution_count": null,
   "id": "9f7075f4",
   "metadata": {},
   "outputs": [],
   "source": []
  }
 ],
 "metadata": {
  "kernelspec": {
   "display_name": "Python 3 (ipykernel)",
   "language": "python",
   "name": "python3"
  },
  "language_info": {
   "codemirror_mode": {
    "name": "ipython",
    "version": 3
   },
   "file_extension": ".py",
   "mimetype": "text/x-python",
   "name": "python",
   "nbconvert_exporter": "python",
   "pygments_lexer": "ipython3",
   "version": "3.12.7"
  }
 },
 "nbformat": 4,
 "nbformat_minor": 5
}
