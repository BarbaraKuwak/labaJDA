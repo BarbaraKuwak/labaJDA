{
 "cells": [
  {
   "cell_type": "markdown",
   "id": "2fea6111",
   "metadata": {},
   "source": [
    "# Zajęcia 22: Wprowadzenie do Pandas\n",
    "\n",
    "## Instalacja i importowanie Pandas"
   ]
  },
  {
   "cell_type": "code",
   "execution_count": null,
   "id": "ae22a80f",
   "metadata": {},
   "outputs": [],
   "source": [
    "!pip install pandas"
   ]
  },
  {
   "cell_type": "code",
   "execution_count": null,
   "id": "5f6b748c",
   "metadata": {},
   "outputs": [],
   "source": [
    "import pandas as pd"
   ]
  },
  {
   "cell_type": "markdown",
   "id": "a7294e87",
   "metadata": {},
   "source": [
    "# Series - podstawowy typ danych w Pandas\n",
    "Series to jednowymiarowa struktura danych, przypominająca listę lub słownik."
   ]
  },
  {
   "cell_type": "code",
   "execution_count": null,
   "id": "573338f5",
   "metadata": {},
   "outputs": [],
   "source": [
    "# Tworzenie Series z domyślnym indeksem\n",
    "data = [10, 20, 30, 40]\n",
    "series = pd.Series(data)\n",
    "print(series)\n",
    "\n",
    "# Tworzenie Series z własnym indeksem\n",
    "index = ['a', 'b', 'c', 'd']\n",
    "series_custom = pd.Series(data, index=index)\n",
    "print(series_custom)"
   ]
  },
  {
   "cell_type": "markdown",
   "id": "a8a3b66e",
   "metadata": {},
   "source": [
    "### Ćwiczenie: \n",
    "Stwórz własny obiekt Series z pięcioma wartościami (możesz użyć `range`) i niestandardowym indeksem."
   ]
  },
  {
   "cell_type": "code",
   "execution_count": null,
   "id": "680ae9d6",
   "metadata": {},
   "outputs": [],
   "source": []
  },
  {
   "cell_type": "markdown",
   "id": "13d6b7d9",
   "metadata": {},
   "source": [
    "## DataFrame - dwuwymiarowa tabela podobna do Excela "
   ]
  },
  {
   "cell_type": "code",
   "execution_count": null,
   "id": "1ce1c183",
   "metadata": {},
   "outputs": [],
   "source": [
    "data = {\n",
    "    'Imię': ['Jan', 'Anna', 'Tomasz'],\n",
    "    'Wiek': [25, 30, 35],\n",
    "    'Miasto': ['Warszawa', 'Kraków', 'Gdańsk']\n",
    "}\n",
    "\n",
    "df = pd.DataFrame(data) # Łatwo tworzone ze słowników\n",
    "\n",
    "# Różnica między print a display\n",
    "print(df)\n",
    "display(df)\n",
    "\n",
    "# Wywoływanie indeksów i kolumn\n",
    "print(df.columns)\n",
    "print(df.index)"
   ]
  },
  {
   "cell_type": "code",
   "execution_count": null,
   "id": "33d14ab9",
   "metadata": {},
   "outputs": [],
   "source": [
    "data_bez_imie = {\n",
    "    'Wiek': [25, 30, 35],\n",
    "    'Miasto': ['Warszawa', 'Kraków', 'Gdańsk']\n",
    "}\n",
    "\n",
    "# Używanie indeksu innego niż domyślny\n",
    "df = pd.DataFrame(data_bez_imie, index = ['Jan', 'Anna', 'Tomasz'])\n",
    "display(df)\n",
    "print(df.index)"
   ]
  },
  {
   "cell_type": "code",
   "execution_count": null,
   "id": "76795d8b",
   "metadata": {},
   "outputs": [],
   "source": [
    "# Alternatywne ustawienie indeksu innego niż domyślny\n",
    "df = pd.DataFrame(data).set_index('Imię')\n",
    "display(df)\n",
    "print(df.index)\n",
    "\n",
    "# Powrót indeksu do kolumny\n",
    "df = df.reset_index(drop = False)\n",
    "display(df)"
   ]
  },
  {
   "cell_type": "markdown",
   "id": "6fb5cd6f",
   "metadata": {},
   "source": [
    "## Importowanie danych"
   ]
  },
  {
   "cell_type": "code",
   "execution_count": null,
   "id": "eaa288e1",
   "metadata": {},
   "outputs": [],
   "source": [
    "# Importowanie danych z pliku CSV\n",
    "\n",
    "# Jeżeli nie działa, podaj swoją lokalizację pliku\n",
    "df_titanic = pd.read_csv('../input/titanic/train.csv') \n",
    "\n",
    "df_titanic.info()\n",
    "\n",
    "display(df_titanic.describe()) # dla kolumn liczbowych\n",
    "\n",
    "# Alternatywne wyjścia dla ustawienia indeksu\n",
    "df_titanic = df_titanic.set_index('PassengerId')\n",
    "df_titanic = pd.read_csv('../input/titanic/train.csv', index_col= \"PassengerId\") \n",
    "\n",
    "display(df_titanic.head())  # Podgląd pierwszych 5 wierszy\n",
    "display(df_titanic.tail(10))  # Podgląd ostatnich 10 wierszy"
   ]
  },
  {
   "cell_type": "code",
   "execution_count": null,
   "id": "c8a0a522",
   "metadata": {},
   "outputs": [],
   "source": [
    "# Importowanie danych z pliku Excel\n",
    "df_tdf = pd.read_excel('../input/tour_de_france/tour_de_france.xlsx', sheet_name='Stats', index_col='Year')\n",
    "display(df_tdf.head())"
   ]
  },
  {
   "cell_type": "markdown",
   "id": "c7356428",
   "metadata": {},
   "source": [
    "### Ćwiczenie:\n",
    "1. Zaczytaj plik z lokacji `../input/titanic/test.csv` \n",
    "2. ustaw index `PassengerId`\n",
    "3. Wyświetl pierwszych 10 wierszy"
   ]
  },
  {
   "cell_type": "code",
   "execution_count": null,
   "id": "318cc365",
   "metadata": {},
   "outputs": [],
   "source": [
    "df_titanic_test = ..."
   ]
  },
  {
   "cell_type": "markdown",
   "id": "ffd4f1f4",
   "metadata": {},
   "source": [
    "## Exportowanie danych"
   ]
  },
  {
   "cell_type": "code",
   "execution_count": null,
   "id": "b77df992",
   "metadata": {},
   "outputs": [],
   "source": [
    "# Zapis to csv\n",
    "df_titanic.to_csv('../output/titanic_kopia.csv', index=False)\n",
    "\n",
    "# Różnica w uwzględnianiu indeksu\n",
    "df_titanic.to_csv('../output/titanic_kopia2.csv', index=True)\n",
    "\n",
    "# Zapis do xlsx\n",
    "df_tdf.to_excel('../output/tour_de_france_kopia.xlsx', index=True, sheet_name=\"Nazwa\")"
   ]
  },
  {
   "cell_type": "markdown",
   "id": "2bd7a9e9",
   "metadata": {},
   "source": [
    "## Selekcja danych"
   ]
  },
  {
   "cell_type": "code",
   "execution_count": null,
   "id": "04580c12",
   "metadata": {},
   "outputs": [],
   "source": [
    "# Pobieranie jednej kolumny\n",
    "slice_series = df_titanic['Name']\n",
    "display(slice_series)\n",
    "print(type(slice_series))\n",
    "\n",
    "# Pobieranie jednej kolumny jako DataFrame\n",
    "slice_df = df_titanic[['Name']]\n",
    "display(slice_df)  \n",
    "print(type(slice_df))\n"
   ]
  },
  {
   "cell_type": "code",
   "execution_count": null,
   "id": "4447a33a",
   "metadata": {},
   "outputs": [],
   "source": [
    "# Pobranie kilku kolumn\n",
    "slice_2 = df_titanic[['Name', 'Age']]\n",
    "display(slice_2)  \n",
    "print(type(slice_2))"
   ]
  },
  {
   "cell_type": "code",
   "execution_count": null,
   "id": "459893f1",
   "metadata": {},
   "outputs": [],
   "source": [
    "# Selekcja wierszy\n",
    "display(df_titanic[:5])  # Pierwsze 5 wierszy\n",
    "display(df_titanic[-5:])  # Ostatnie 5 wierszy\n",
    "display(df_titanic[100:105])  # Wiersze od 100 do 104"
   ]
  },
  {
   "cell_type": "markdown",
   "id": "d4091289",
   "metadata": {},
   "source": [
    "## Selekcja danych `.loc` i `.iloc`"
   ]
  },
  {
   "cell_type": "code",
   "execution_count": null,
   "id": "810396b8",
   "metadata": {},
   "outputs": [],
   "source": [
    "# Selekcja danych .loc (wybór według etykiet)\n",
    "# Istotne są etykiety!!!\n",
    "# display(df_titanic.loc[0, 'Name'])  # Nie działa!!!\n",
    "\n",
    "display(df_titanic.loc[1, 'Name'])  # Pobranie wartości z pierwszego wiersza, kolumna 'Name'\n",
    "display(df_titanic.loc[1:5, ['Name', 'Age']])  # Pobranie 6 pierwszych wierszy dla kolumn 'Name' i 'Age'\n",
    "display(df_titanic.loc[:, ['Name', 'Age']])  # Pobranie wszystkich wierszy dla kolumn 'Name' i 'Age'\n",
    "\n",
    "display(df_titanic.loc[10:20, :])  # Wiersze od 10 do 20, wszystkie kolumny\n",
    "display(df_titanic.loc[::10, :])  # Co 10. wiersz"
   ]
  },
  {
   "cell_type": "code",
   "execution_count": null,
   "id": "e1c9734f",
   "metadata": {},
   "outputs": [],
   "source": [
    "# Selekcja danych .iloc (wybór według indeksów)\n",
    "display(df_titanic.iloc[0, 1])  # Pobranie wartości z pierwszego wiersza, drugiej kolumny\n",
    "display(df_titanic.iloc[:3, :2])  # Pierwsze 3 wiersze i 2 pierwsze kolumny\n",
    "display(df_titanic.iloc[5:15, 1:-1])  # Wiersze od 5 do 14, kolumny od 1 do przedostatniej\n",
    "display(df_titanic.iloc[::5, :])  # Co 5. wiersz, wszystkie kolumny"
   ]
  },
  {
   "cell_type": "markdown",
   "id": "ce7d5cb6",
   "metadata": {},
   "source": [
    "### Ćwiczenie: \n",
    "Wybierz imię i wiek dziesiątej osoby z df_titanic za pomocą loc i iloc."
   ]
  },
  {
   "cell_type": "code",
   "execution_count": null,
   "id": "f508198f",
   "metadata": {},
   "outputs": [],
   "source": []
  },
  {
   "cell_type": "markdown",
   "id": "d1d0bf95",
   "metadata": {},
   "source": [
    "## Łączenie DataFrame'ów"
   ]
  },
  {
   "cell_type": "code",
   "execution_count": null,
   "id": "c8b1f9fe",
   "metadata": {},
   "outputs": [],
   "source": [
    "# Merge - łączenie dwóch DataFrame'ów na podstawie wspólnej kolumny\n",
    "employees = pd.DataFrame({'ID': [1, 2, 3, 4], 'Name': ['Jan', 'Anna', 'Tomasz', 'Jakub']})\n",
    "display(employees)\n",
    "salaries = pd.DataFrame({'ID': [1, 2, 3, 5], 'Salary': [4000, 5000, 6000, 7000]})\n",
    "display(salaries)\n",
    "merged_df = employees.merge(salaries, on='ID')\n",
    "display(merged_df)\n"
   ]
  },
  {
   "cell_type": "code",
   "execution_count": null,
   "id": "65ecb2ce",
   "metadata": {},
   "outputs": [],
   "source": [
    "# Różnica między left, right, inner, outer\n",
    "def merge_display(df1, df2, on, how):\n",
    "    display(df1.merge(df2, on = on, how = how))\n",
    "\n",
    "merge_display(employees, salaries, on = 'ID', how = 'left')\n",
    "merge_display(employees, salaries, on = 'ID', how = 'right')\n",
    "merge_display(employees, salaries, on = 'ID', how = 'inner')\n",
    "merge_display(employees, salaries, on = 'ID', how = 'outer')"
   ]
  },
  {
   "cell_type": "code",
   "execution_count": null,
   "id": "535d018e",
   "metadata": {},
   "outputs": [],
   "source": [
    "# Join - łączenie DataFrame'ów na podstawie indeksu\n",
    "left = pd.DataFrame({'A': [1, 2, 3]}, index=['a', 'b', 'c'])\n",
    "display(left)\n",
    "right = pd.DataFrame({'B': [4, 5, 6]}, index=['a', 'b', 'c'])\n",
    "display(right)\n",
    "\n",
    "joined_df = left.join(right, how='inner')\n",
    "display(joined_df)"
   ]
  },
  {
   "cell_type": "code",
   "execution_count": null,
   "id": "8d444ef5",
   "metadata": {},
   "outputs": [],
   "source": [
    "# Concat - łączenie DataFrame'ów wierszami\n",
    "concat_df = pd.concat([left, right], axis=1)\n",
    "display(concat_df)\n",
    "\n",
    "# Concat - łączenie DataFrame'ów kolumnami\n",
    "df_titanic_all = pd.concat([df_titanic, df_titanic_test], axis=0)\n",
    "display(df_titanic_all)"
   ]
  },
  {
   "cell_type": "markdown",
   "id": "7dd5c0a7",
   "metadata": {},
   "source": [
    "### Ćwiczenie: \n",
    "Połącz dwa DataFrame'y zawierające różne informacje o pasażerach Titanica."
   ]
  },
  {
   "cell_type": "code",
   "execution_count": null,
   "id": "080c2f43",
   "metadata": {},
   "outputs": [],
   "source": []
  }
 ],
 "metadata": {
  "kernelspec": {
   "display_name": "Python 3 (ipykernel)",
   "language": "python",
   "name": "python3"
  },
  "language_info": {
   "codemirror_mode": {
    "name": "ipython",
    "version": 3
   },
   "file_extension": ".py",
   "mimetype": "text/x-python",
   "name": "python",
   "nbconvert_exporter": "python",
   "pygments_lexer": "ipython3",
   "version": "3.10.9"
  }
 },
 "nbformat": 4,
 "nbformat_minor": 5
}
