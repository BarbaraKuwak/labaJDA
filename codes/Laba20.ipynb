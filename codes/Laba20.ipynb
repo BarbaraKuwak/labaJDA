{
 "cells": [
  {
   "cell_type": "markdown",
   "id": "543fbc91-4c3a-45ec-bc08-d0e155511b08",
   "metadata": {},
   "source": [
    "# Instalacja Pythona\n",
    "\n",
    "\n",
    "Ćwiczenie:\n",
    "\n",
    "1.   Pobierz i zainstaluj Anacondę z [anaconda.com/download](https://www.anaconda.com/download).\n",
    "2.   Otwórz Anaconda Navigator i uruchom Jupyter Notebook.\n",
    "3.   Utwórz nowy plik w Jupyter Notebook."
   ]
  },
  {
   "cell_type": "markdown",
   "id": "11df75c3-53af-48f1-a609-8e07bc35ec5d",
   "metadata": {},
   "source": [
    "# Instalacja paczek Python\n",
    "\n",
    "**Ćwiczenie:**\n",
    "\n",
    "1. Zainstaluj bibliotekę `polars` i `plotly` poleceniem:\n",
    "    \n",
    "```pip install polars```\n",
    "\n",
    "```pip install plotly```\n",
    "\n",
    "2. Sprawdź, czy instalacja się powiodła, importując je w skrypcie Python:"
   ]
  },
  {
   "cell_type": "code",
   "execution_count": null,
   "id": "24002f76-c0dd-42c4-a047-d3da1ccba638",
   "metadata": {},
   "outputs": [],
   "source": [
    "import polars\n",
    "import plotly\n",
    "print(\"Biblioteki działają poprawnie!\")"
   ]
  },
  {
   "cell_type": "markdown",
   "id": "2c5997f1-bdab-4632-b1c4-774ca03d5cbe",
   "metadata": {},
   "source": [
    "# Google Colab\n",
    "\n",
    "**Ćwiczenie:**\n",
    "\n",
    "1. Otwórz Google Colab colab.research.google.com.\n",
    "\n",
    "2. Utwórz nowy notatnik i wpisz poniższy kod:\n",
    "\n",
    "```print(\"Witaj w Google Colab!\")```\n",
    "\n",
    "3. Uruchom kod i zapisz plik na swoim Dysku Google."
   ]
  },
  {
   "cell_type": "markdown",
   "id": "ef13d8dd-c527-40e5-975c-5d65d10f5e4e",
   "metadata": {},
   "source": [
    "# Podstawowe typy danych\n",
    "**Ćwiczenie**:\n",
    "\n",
    "Zidentyfikuj typ danych w poniższych zmiennych:"
   ]
  },
  {
   "cell_type": "code",
   "execution_count": null,
   "id": "19e92875-c316-45f8-a9a3-f49308823614",
   "metadata": {},
   "outputs": [],
   "source": [
    "help(print)"
   ]
  },
  {
   "cell_type": "code",
   "execution_count": null,
   "id": "22db552f-49a1-45be-9fc0-e30699abfb9b",
   "metadata": {},
   "outputs": [],
   "source": [
    "x = 10\n",
    "y = 3.14\n",
    "z = \"Hello\"\n",
    "a = True\n",
    "b = [1, 2, 3]\n",
    "c = {\"key\": \"value\"}\n",
    "d = (10, 20)\n",
    "e = None"
   ]
  },
  {
   "cell_type": "code",
   "execution_count": null,
   "id": "4c39a3fb-f8a3-49ce-8f51-34d09a3cd294",
   "metadata": {},
   "outputs": [],
   "source": [
    "print(type(x)) # Sprawdzanie typu danych"
   ]
  },
  {
   "cell_type": "markdown",
   "id": "d538fdd0-361a-40e9-bd84-35723a59334c",
   "metadata": {},
   "source": [
    "# Podstawowe operacje na liczbach\n",
    "**Ćwiczenie:**\n",
    "\n",
    "Oblicz wynik wyrażeń:"
   ]
  },
  {
   "cell_type": "code",
   "execution_count": null,
   "id": "6faa4959-7bb2-43fa-8984-2282ffc02219",
   "metadata": {},
   "outputs": [],
   "source": [
    "x = 8\n",
    "y = 5\n",
    "print(x y) # dodawanie\n",
    "print(x y) # odejmowanie\n",
    "print(x y) # mnożenie\n",
    "print(x y) # dzielenie\n",
    "print(x y) # dzielenie bez reszty\n",
    "print(x y) # reszta z dzielenia\n",
    "print(x y) # potęgowanie"
   ]
  },
  {
   "cell_type": "markdown",
   "id": "823c58d0-43f5-4082-a188-a6bf97379a72",
   "metadata": {},
   "source": [
    "# Podstawowe operacje na tekstach\n",
    "\n",
    "**Ćwiczenie:**\n",
    "\n",
    "1. Połącz stringi \"spam\", \"bacon\" i \"eggs\" w jedną zmienną text.\n",
    "\n",
    "2. Zamień wszystkie litery w zmiennej na wielkie.\n",
    "\n",
    "3. Zamień \n",
    "\n",
    "4. Sprawdź czy \"PUMBA\" jest w zmiennej."
   ]
  },
  {
   "cell_type": "markdown",
   "id": "3ae7e16c",
   "metadata": {},
   "source": [
    "# Operatory porównania\n",
    "\n",
    "**Ćwiczenie:** \n",
    "\n",
    "Zapisz operacje i zrozum, dlaczego są prawdziwe lub fałszywe:"
   ]
  },
  {
   "cell_type": "code",
   "execution_count": null,
   "id": "664520b4",
   "metadata": {},
   "outputs": [],
   "source": [
    "A = 31\n",
    "B = 27\n",
    "C = 27\n",
    "\n",
    "print(A B) # A większe niż B\n",
    "print(A B) # A mniejsze niż B\n",
    "print(A B) # A równe B\n",
    "print(A B) # A nierówne C\n",
    "print(A B) # B większe równe C"
   ]
  },
  {
   "cell_type": "markdown",
   "id": "77e78a32",
   "metadata": {},
   "source": [
    "# Operatory logiczne\n",
    "\n",
    "**Ćwiczenie:** \n",
    "\n",
    "Przewidź wynik i sprawdź w Pythonie:"
   ]
  },
  {
   "cell_type": "code",
   "execution_count": null,
   "id": "9526fbc0",
   "metadata": {},
   "outputs": [],
   "source": [
    "print(True and False)\n",
    "print(True or False)\n",
    "print(not True)\n",
    "print((10 > 5) and (5 < 2))"
   ]
  },
  {
   "cell_type": "markdown",
   "id": "524e43c6",
   "metadata": {},
   "source": [
    "# Operatory przypisania\n",
    "\n",
    "**Ćwiczenie:** \n",
    "\n",
    "Wykonaj kolejne kroki:"
   ]
  },
  {
   "cell_type": "code",
   "execution_count": null,
   "id": "fa6fbbf9",
   "metadata": {},
   "outputs": [],
   "source": [
    "x = 10\n",
    "# dodaj 5 i przypisz\n",
    "# odejmij 2 i przypisz\n",
    "# pomnóż przez 3 i przypisz\n",
    "# podziel przez 2 i przypisz\n",
    "print(x)"
   ]
  },
  {
   "cell_type": "markdown",
   "id": "65e82f36",
   "metadata": {},
   "source": [
    "# Operatory tożsamości\n",
    "\n",
    "**Ćwiczenie:** \n",
    "\n",
    "Przewidź wynik i sprawdź w Pythonie:"
   ]
  },
  {
   "cell_type": "code",
   "execution_count": 12,
   "id": "603a5d55",
   "metadata": {},
   "outputs": [
    {
     "name": "stdout",
     "output_type": "stream",
     "text": [
      "False\n",
      "True\n",
      "True\n",
      "True\n",
      "False\n"
     ]
    }
   ],
   "source": [
    "x = [1, 2, 3]\n",
    "y = [1, 2, 3]\n",
    "z = x\n",
    "\n",
    "print(x is y)\n",
    "print(x is z)\n",
    "print(x == y)\n",
    "\n",
    "z[0] = 2\n",
    "print(x is z)\n",
    "print(x == y)"
   ]
  },
  {
   "cell_type": "markdown",
   "id": "57282a8a",
   "metadata": {},
   "source": [
    "# Operatory przynależności\n",
    "\n",
    "**Ćwiczenie:** \n",
    "\n",
    "Zapisz operacje, przewidź wynik i sprawdź w Pythonie:"
   ]
  },
  {
   "cell_type": "code",
   "execution_count": 5,
   "id": "a2ba7a4c",
   "metadata": {},
   "outputs": [
    {
     "name": "stdout",
     "output_type": "stream",
     "text": [
      "False\n",
      "True\n",
      "False\n"
     ]
    }
   ],
   "source": [
    "x = [1, 2, 3]\n",
    "y = [1, 2]\n",
    "z = 2\n",
    "print(y x) # y jest w x\n",
    "print(z x) # z jest w x\n",
    "print(x y) # z nie jest w x"
   ]
  },
  {
   "cell_type": "markdown",
   "id": "d026a9db",
   "metadata": {},
   "source": [
    "# Podstawowe komendy GIT\n",
    "\n",
    "**Ćwiczenie:**\n",
    "\n",
    "1. Zainstaluj GIT (git-scm.com).\n",
    "\n",
    "2. Skonfiguruj użytkownika:\n",
    "```\n",
    "git config --global user.name \"TwojeImie\"\n",
    "git config --global user.email \"twoj@email.com\"\n",
    "```\n",
    "\n",
    "3. Stwórz nowy katalog i zainicjalizuj repozytorium:\n",
    "```\n",
    "mkdir moj_projekt\n",
    "cd moj_projekt\n",
    "git init\n",
    "```\n",
    "\n",
    "4. Utwórz plik README.md, dodaj go do repozytorium i wykonaj pierwszy commit:\n",
    "```\n",
    "echo \"# Moj Projekt\" > README.md\n",
    "git add README.md\n",
    "git commit -m \"Pierwszy commit\"\n",
    "```\n",
    "\n",
    "5. Stwórz repozytorium na GitHub i połącz je z lokalnym repo:\n",
    "\n",
    "```\n",
    "git remote add origin <URL_REPO>\n",
    "git push -u origin main\n",
    "```\n",
    "\n",
    "6. Pobierz zmiany z repozytorium:\n",
    "\n",
    "```\n",
    "git pull origin main\n",
    "```"
   ]
  }
 ],
 "metadata": {
  "kernelspec": {
   "display_name": "Python 3 (ipykernel)",
   "language": "python",
   "name": "python3"
  },
  "language_info": {
   "codemirror_mode": {
    "name": "ipython",
    "version": 3
   },
   "file_extension": ".py",
   "mimetype": "text/x-python",
   "name": "python",
   "nbconvert_exporter": "python",
   "pygments_lexer": "ipython3",
   "version": "3.10.9"
  }
 },
 "nbformat": 4,
 "nbformat_minor": 5
}
