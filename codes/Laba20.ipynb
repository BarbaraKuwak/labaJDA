{
 "cells": [
  {
   "cell_type": "markdown",
   "id": "543fbc91-4c3a-45ec-bc08-d0e155511b08",
   "metadata": {},
   "source": [
    "# Instalacja Pythona\n",
    "\n",
    "\n",
    "Ćwiczenie:\n",
    "\n",
    "1.   Pobierz i zainstaluj Anacondę z [anaconda.com/download](https://www.anaconda.com/download).\n",
    "2.   Otwórz Anaconda Navigator i uruchom Jupyter Notebook.\n",
    "3.   Utwórz nowy plik w Jupyter Notebook."
   ]
  },
  {
   "cell_type": "markdown",
   "id": "11df75c3-53af-48f1-a609-8e07bc35ec5d",
   "metadata": {},
   "source": [
    "# Instalacja paczek Python\n",
    "\n",
    "**Ćwiczenie:**\n",
    "\n",
    "1. Zainstaluj bibliotekę `polars` i `plotly` poleceniem:\n",
    "    \n",
    "```pip install polars```\n",
    "\n",
    "```pip install plotly```\n",
    "\n",
    "2. Sprawdź, czy instalacja się powiodła, importując je w skrypcie Python:"
   ]
  },
  {
   "cell_type": "code",
   "execution_count": 1,
   "id": "2f6845d9-2706-4f24-8e2b-4e2f7f3ad554",
   "metadata": {},
   "outputs": [
    {
     "name": "stdout",
     "output_type": "stream",
     "text": [
      "Requirement already satisfied: polars in c:\\users\\jakub\\anaconda3\\lib\\site-packages (1.34.0)\n",
      "Requirement already satisfied: polars-runtime-32==1.34.0 in c:\\users\\jakub\\anaconda3\\lib\\site-packages (from polars) (1.34.0)\n"
     ]
    }
   ],
   "source": [
    "!pip install polars"
   ]
  },
  {
   "cell_type": "code",
   "execution_count": 2,
   "id": "24002f76-c0dd-42c4-a047-d3da1ccba638",
   "metadata": {},
   "outputs": [
    {
     "name": "stdout",
     "output_type": "stream",
     "text": [
      "Biblioteki działają poprawnie!\n"
     ]
    }
   ],
   "source": [
    "import polars\n",
    "import plotly\n",
    "print(\"Biblioteki działają poprawnie!\")"
   ]
  },
  {
   "cell_type": "markdown",
   "id": "2c5997f1-bdab-4632-b1c4-774ca03d5cbe",
   "metadata": {},
   "source": [
    "# Google Colab\n",
    "\n",
    "**Ćwiczenie:**\n",
    "\n",
    "1. Otwórz Google Colab colab.research.google.com.\n",
    "\n",
    "2. Utwórz nowy notatnik i wpisz poniższy kod:\n",
    "\n",
    "```print(\"Witaj w Google Colab!\")```\n",
    "\n",
    "3. Uruchom kod i zapisz plik na swoim Dysku Google."
   ]
  },
  {
   "cell_type": "markdown",
   "id": "ef13d8dd-c527-40e5-975c-5d65d10f5e4e",
   "metadata": {},
   "source": [
    "# Podstawowe typy danych\n",
    "**Ćwiczenie**:\n",
    "\n",
    "Zidentyfikuj typ danych w poniższych zmiennych:"
   ]
  },
  {
   "cell_type": "code",
   "execution_count": 5,
   "id": "19e92875-c316-45f8-a9a3-f49308823614",
   "metadata": {},
   "outputs": [
    {
     "name": "stdout",
     "output_type": "stream",
     "text": [
      "Help on built-in function print in module builtins:\n",
      "\n",
      "print(*args, sep=' ', end='\\n', file=None, flush=False)\n",
      "    Prints the values to a stream, or to sys.stdout by default.\n",
      "\n",
      "    sep\n",
      "      string inserted between values, default a space.\n",
      "    end\n",
      "      string appended after the last value, default a newline.\n",
      "    file\n",
      "      a file-like object (stream); defaults to the current sys.stdout.\n",
      "    flush\n",
      "      whether to forcibly flush the stream.\n",
      "\n"
     ]
    }
   ],
   "source": [
    "help(print)"
   ]
  },
  {
   "cell_type": "code",
   "execution_count": 6,
   "id": "22db552f-49a1-45be-9fc0-e30699abfb9b",
   "metadata": {},
   "outputs": [],
   "source": [
    "x = 10\n",
    "y = 3.14\n",
    "z = \"Hello\"\n",
    "a = True\n",
    "b = [1, 2, 3]\n",
    "c = {\"key\": \"value\"}\n",
    "d = (10, 20)\n",
    "e = None"
   ]
  },
  {
   "cell_type": "code",
   "execution_count": 9,
   "id": "4c39a3fb-f8a3-49ce-8f51-34d09a3cd294",
   "metadata": {},
   "outputs": [
    {
     "name": "stdout",
     "output_type": "stream",
     "text": [
      "<class 'list'>\n"
     ]
    }
   ],
   "source": [
    "print(type(b)) # Sprawdzanie typu danych"
   ]
  },
  {
   "cell_type": "markdown",
   "id": "d538fdd0-361a-40e9-bd84-35723a59334c",
   "metadata": {},
   "source": [
    "# Podstawowe operacje na liczbach\n",
    "**Ćwiczenie:**\n",
    "\n",
    "Oblicz wynik wyrażeń:"
   ]
  },
  {
   "cell_type": "code",
   "execution_count": 10,
   "id": "6faa4959-7bb2-43fa-8984-2282ffc02219",
   "metadata": {},
   "outputs": [
    {
     "name": "stdout",
     "output_type": "stream",
     "text": [
      "13\n",
      "3\n",
      "40\n",
      "1.6\n",
      "1\n",
      "3\n",
      "32768\n"
     ]
    }
   ],
   "source": [
    "x = 8\n",
    "y = 5\n",
    "print(x + y) # dodawanie\n",
    "print(x - y) # odejmowanie\n",
    "print(x * y) # mnożenie\n",
    "print(x / y) # dzielenie\n",
    "print(x // y) # dzielenie bez reszty\n",
    "print(x % y) # reszta z dzielenia\n",
    "print(x ** y) # potęgowanie"
   ]
  },
  {
   "cell_type": "markdown",
   "id": "823c58d0-43f5-4082-a188-a6bf97379a72",
   "metadata": {},
   "source": [
    "# Podstawowe operacje na tekstach\n",
    "\n",
    "**Ćwiczenie:**\n",
    "\n",
    "1. Połącz stringi \"spam\", \"bacon\" i \"eggs\" w jedną zmienną text.\n",
    "\n",
    "2. Zamień wszystkie litery w zmiennej na wielkie.\n",
    "\n",
    "3. Sprawdź czy \"PUMBA\" jest w zmiennej."
   ]
  },
  {
   "cell_type": "code",
   "execution_count": 11,
   "id": "bccd3e78-1a2e-4119-9ca7-eca8f16e1add",
   "metadata": {},
   "outputs": [],
   "source": [
    "spam = \"spam\"\n",
    "bacon = \"bacon\"\n",
    "eggs = \"eggs\"\n",
    "\n",
    "text = spam + bacon + eggs"
   ]
  },
  {
   "cell_type": "code",
   "execution_count": 22,
   "id": "e5b72785-3937-4c2d-b3a4-1be2840c0a92",
   "metadata": {},
   "outputs": [
    {
     "name": "stdout",
     "output_type": "stream",
     "text": [
      "SPAMBACONEGGS\n",
      "False\n"
     ]
    }
   ],
   "source": [
    "text = text.upper()\n",
    "print(text)\n",
    "\n",
    "print(\"PUMBA\" in text)"
   ]
  },
  {
   "cell_type": "markdown",
   "id": "3ae7e16c",
   "metadata": {},
   "source": [
    "# Operatory porównania\n",
    "\n",
    "**Ćwiczenie:** \n",
    "\n",
    "Zapisz operacje i zrozum, dlaczego są prawdziwe lub fałszywe:"
   ]
  },
  {
   "cell_type": "code",
   "execution_count": 27,
   "id": "664520b4",
   "metadata": {},
   "outputs": [
    {
     "name": "stdout",
     "output_type": "stream",
     "text": [
      "True\n"
     ]
    }
   ],
   "source": [
    "A = 31\n",
    "B = 27\n",
    "C = 27\n",
    "\n",
    "#print(A > B) # A większe niż B\n",
    "#print(A < B) # A mniejsze niż B\n",
    "#print(A == B) # A równe B\n",
    "#print(A != C) # A nierówne C\n",
    "print(B >= C) # B większe równe C"
   ]
  },
  {
   "cell_type": "markdown",
   "id": "77e78a32",
   "metadata": {},
   "source": [
    "# Operatory logiczne\n",
    "\n",
    "**Ćwiczenie:** \n",
    "\n",
    "Przewidź wynik i sprawdź w Pythonie:"
   ]
  },
  {
   "cell_type": "code",
   "execution_count": 33,
   "id": "9526fbc0",
   "metadata": {},
   "outputs": [
    {
     "name": "stdout",
     "output_type": "stream",
     "text": [
      "True\n"
     ]
    }
   ],
   "source": [
    "#print(True and False)\n",
    "#print(True or False)\n",
    "print(not False)\n",
    "#print((10 > 5) and (5 < 2))\n",
    "#print((10 > 5) or (5 < 2))"
   ]
  },
  {
   "cell_type": "markdown",
   "id": "524e43c6",
   "metadata": {},
   "source": [
    "# Operatory przypisania\n",
    "\n",
    "**Ćwiczenie:** \n",
    "\n",
    "Wykonaj kolejne kroki:"
   ]
  },
  {
   "cell_type": "code",
   "execution_count": 53,
   "id": "fa6fbbf9",
   "metadata": {},
   "outputs": [
    {
     "name": "stdout",
     "output_type": "stream",
     "text": [
      "19.5\n"
     ]
    }
   ],
   "source": [
    "x = 10\n",
    "x += 5 # dodaj 5 i przypisz\n",
    "x -= 2 # odejmij 2 i przypisz\n",
    "x *= 3 # pomnóż przez 3 i przypisz\n",
    "x /= 2 # podziel przez 2 i przypisz\n",
    "print(x)"
   ]
  },
  {
   "cell_type": "markdown",
   "id": "65e82f36",
   "metadata": {},
   "source": [
    "# Operatory tożsamości\n",
    "\n",
    "**Ćwiczenie:** \n",
    "\n",
    "Przewidź wynik i sprawdź w Pythonie:"
   ]
  },
  {
   "cell_type": "code",
   "execution_count": 62,
   "id": "603a5d55",
   "metadata": {},
   "outputs": [
    {
     "name": "stdout",
     "output_type": "stream",
     "text": [
      "False\n",
      "True\n",
      "True\n",
      "True\n",
      "[2, 2, 3]\n",
      "False\n"
     ]
    }
   ],
   "source": [
    "x = [1, 2, 3]\n",
    "y = [1, 2, 3]\n",
    "z = x\n",
    "\n",
    "print(x is y)\n",
    "print(x is z)\n",
    "print(x == y)\n",
    "#\n",
    "z[0] = 2\n",
    "print(x is z)\n",
    "print(x)\n",
    "print(x == y)"
   ]
  },
  {
   "cell_type": "markdown",
   "id": "57282a8a",
   "metadata": {},
   "source": [
    "# Operatory przynależności\n",
    "\n",
    "**Ćwiczenie:** \n",
    "\n",
    "Zapisz operacje, przewidź wynik i sprawdź w Pythonie:"
   ]
  },
  {
   "cell_type": "code",
   "execution_count": 69,
   "id": "a2ba7a4c",
   "metadata": {},
   "outputs": [
    {
     "name": "stdout",
     "output_type": "stream",
     "text": [
      "False\n",
      "True\n",
      "True\n"
     ]
    }
   ],
   "source": [
    "x = [1, 2, 3]\n",
    "x2 = [1, 2, 3, [1, 2]]\n",
    "y = [1, 2]\n",
    "z = 2\n",
    "t = 1\n",
    "print(y in x) # y jest w x\n",
    "print(3 in x) # z jest w x\n",
    "print(x not in y) # z nie jest w x"
   ]
  },
  {
   "cell_type": "markdown",
   "id": "d026a9db",
   "metadata": {},
   "source": [
    "# Podstawowe komendy GIT\n",
    "\n",
    "**Ćwiczenie:**\n",
    "\n",
    "1. Zainstaluj GitHub Desktop ([https://desktop.github.com/download/](https://desktop.github.com/download/)).\n",
    "\n",
    "2. Przejdź przez tutorial.\n",
    "\n",
    "3. Klonuj repozytorium\n",
    "```\n",
    "https://github.com/jisokolowski/labaJDA\n",
    "```\n"
   ]
  }
 ],
 "metadata": {
  "kernelspec": {
   "display_name": "Python 3 (ipykernel)",
   "language": "python",
   "name": "python3"
  },
  "language_info": {
   "codemirror_mode": {
    "name": "ipython",
    "version": 3
   },
   "file_extension": ".py",
   "mimetype": "text/x-python",
   "name": "python",
   "nbconvert_exporter": "python",
   "pygments_lexer": "ipython3",
   "version": "3.12.7"
  }
 },
 "nbformat": 4,
 "nbformat_minor": 5
}
