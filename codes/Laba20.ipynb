{
 "cells": [
  {
   "cell_type": "markdown",
   "id": "31b7c37c",
   "metadata": {},
   "source": [
    "# Podstawy programowania w Pythonie\n"
   ]
  },
  {
   "cell_type": "markdown",
   "id": "ed0023fa",
   "metadata": {},
   "source": [
    "## Podstawowe struktury danych - LIST/LISTA\n",
    "Modyfikowalna, uporządkowana, indeksowalna kolekcja\n"
   ]
  },
  {
   "cell_type": "code",
   "execution_count": 1,
   "id": "4a4e8788",
   "metadata": {},
   "outputs": [
    {
     "name": "stdout",
     "output_type": "stream",
     "text": [
      "Lista: [1, 2, 3, 4, 5]\n",
      "Lista po dodaniu 6: [1, 2, 3, 4, 5, 6]\n",
      "Lista po usunięciu 3: [1, 2, 4, 5, 6]\n",
      "Element na indeksie 2: 4\n",
      "Elementy na indeksach 1, 2: [2, 4]\n"
     ]
    }
   ],
   "source": [
    "lista = [1, 2, 3, 4, 5] # Tworzenie listy\n",
    "print(\"Lista:\", lista)\n",
    "lista.append(6)  # Dodawanie elementu\n",
    "print(\"Lista po dodaniu 6:\", lista)\n",
    "lista.remove(3)  # Usuwanie elementu\n",
    "print(\"Lista po usunięciu 3:\", lista)\n",
    "print(\"Element na indeksie 2:\", lista[2])  # Odnoszenie się do elementu\n",
    "print(\"Elementy na indeksach 1, 2:\", lista[1:3]) # Odnoszenie się do elementu o indeksie 1 i 2"
   ]
  },
  {
   "cell_type": "markdown",
   "id": "63d9154c",
   "metadata": {},
   "source": [
    "### Ćwiczenie\n",
    "1. Utwórz listę liczb parzystych od 2 do 20 włącznie.\n",
    "2. Usuń z niej 4 element.\n",
    "2. Wydrukuj elementy na indeksach 2, 3, 4, 5."
   ]
  },
  {
   "cell_type": "code",
   "execution_count": 2,
   "id": "88ddb2ff",
   "metadata": {},
   "outputs": [
    {
     "name": "stdout",
     "output_type": "stream",
     "text": [
      "[2, 4, 6, 8, 10, 12, 14, 16, 18, 20]\n",
      "Czwarty element: 8\n",
      "[2, 4, 6, 10, 12, 14, 16, 18, 20]\n",
      "[6, 10, 12, 14]\n"
     ]
    }
   ],
   "source": [
    "x = [2, 4, 6, 8, 10, 12, 14, 16, 18, 20]\n",
    "print(x)\n",
    "print(\"Czwarty element:\", x[3])\n",
    "x.remove(8)\n",
    "print(x)\n",
    "print(x[2:6])\n"
   ]
  },
  {
   "cell_type": "markdown",
   "id": "6996076a",
   "metadata": {},
   "source": [
    "## Podstawowe struktury danych - TUPLE/KROTKA\n",
    "Niemodyfikowalna, uporządkowana, indeksowalna kolekcja\n"
   ]
  },
  {
   "cell_type": "code",
   "execution_count": 3,
   "id": "012e554a",
   "metadata": {},
   "outputs": [
    {
     "name": "stdout",
     "output_type": "stream",
     "text": [
      "Krotka: (10, 20, 30)\n",
      "Element na indeksie 1: 20\n",
      "True\n"
     ]
    }
   ],
   "source": [
    "krotka = (10, 20, 30) # Tworzenie listy\n",
    "print(\"Krotka:\", krotka)\n",
    "print(\"Element na indeksie 1:\", krotka[1])  # Odnoszenie się do elementu\n",
    "print(10 in krotka)"
   ]
  },
  {
   "cell_type": "markdown",
   "id": "15a1abf6",
   "metadata": {},
   "source": [
    "### Ćwiczenie\n",
    "Wypisz drugi element krotki i sprawdź, czy liczba 25 znajduje się w krotce"
   ]
  },
  {
   "cell_type": "code",
   "execution_count": 4,
   "id": "dd495d89",
   "metadata": {},
   "outputs": [
    {
     "name": "stdout",
     "output_type": "stream",
     "text": [
      "20\n",
      "False\n"
     ]
    }
   ],
   "source": [
    "print(krotka[1])\n",
    "print(25 in krotka)"
   ]
  },
  {
   "cell_type": "markdown",
   "id": "9924ffde",
   "metadata": {},
   "source": [
    "## Podstawowe struktury danych - ZBIÓR/SET \n",
    "Modyfikowalna, nieuporządkowana, nieindeksowalna kolekcja\n"
   ]
  },
  {
   "cell_type": "code",
   "execution_count": 5,
   "id": "c5852cc2",
   "metadata": {},
   "outputs": [
    {
     "name": "stdout",
     "output_type": "stream",
     "text": [
      "Zbiór: {1, 2, 3, 4, 5}\n",
      "Zbiór po dodaniu 6: {1, 2, 3, 4, 5, 6}\n",
      "Zbiór po usunięciu 2: {1, 3, 4, 5, 6}\n"
     ]
    }
   ],
   "source": [
    "zbior = {1, 2, 3, 3, 4, 4, 4, 4, 5}\n",
    "print(\"Zbiór:\", zbior)\n",
    "zbior.add(6)  # Dodawanie elementu\n",
    "print(\"Zbiór po dodaniu 6:\", zbior)\n",
    "zbior.discard(2)  # Usuwanie elementu\n",
    "print(\"Zbiór po usunięciu 2:\", zbior)"
   ]
  },
  {
   "cell_type": "markdown",
   "id": "1fb2f3f6",
   "metadata": {},
   "source": [
    "### Ćwiczenie\n",
    "Stwórz zbiór z liczbami od 1 do 10, a następnie usuń z niego liczbę 5"
   ]
  },
  {
   "cell_type": "code",
   "execution_count": 6,
   "id": "30449a39",
   "metadata": {},
   "outputs": [
    {
     "name": "stdout",
     "output_type": "stream",
     "text": [
      "{1, 2, 3, 4, 6, 7, 8, 9, 10}\n"
     ]
    }
   ],
   "source": [
    "zbior = {1,2,3,4,5,6,7,8,9,10,1}\n",
    "zbior.discard(5)\n",
    "print(zbior)\n"
   ]
  },
  {
   "cell_type": "markdown",
   "id": "0542d77b",
   "metadata": {},
   "source": [
    "## Podstawowe struktury danych - SŁOWNIK/DICT \n",
    "Modyfikowalna, uporządkowana, indeksowalna przez klucze kolekcja\n"
   ]
  },
  {
   "cell_type": "code",
   "execution_count": 7,
   "id": "6708aaa4",
   "metadata": {},
   "outputs": [
    {
     "name": "stdout",
     "output_type": "stream",
     "text": [
      "Słownik: {'imie': ['Jan', 'Krzysztof'], 'wiek': [25, 62]}\n",
      "Słownik po dodaniu miasta: {'imie': ['Jan', 'Krzysztof'], 'wiek': [25, 62], 'miasto': ['Warszawa', 'Białystok']}\n",
      "Słownik po usunięciu wieku: {'imie': ['Jan', 'Krzysztof'], 'miasto': ['Warszawa', 'Białystok']}\n",
      "Imię ze słownika: ['Jan', 'Krzysztof']\n"
     ]
    }
   ],
   "source": [
    "# SŁOWNIK - przechowuje pary klucz-wartość\n",
    "slownik = {\"imie\": [\"Jan\", \"Krzysztof\"], \"wiek\": [25, 62]}\n",
    "print(\"Słownik:\", slownik)\n",
    "slownik[\"miasto\"] = [\"Warszawa\", \"Białystok\"]  # Dodawanie nowej pary klucz-wartość\n",
    "print(\"Słownik po dodaniu miasta:\", slownik)\n",
    "del slownik[\"wiek\"]  # Usuwanie klucza\n",
    "print(\"Słownik po usunięciu wieku:\", slownik)\n",
    "print(\"Imię ze słownika:\", slownik[\"imie\"])  # Odnoszenie się do wartości"
   ]
  },
  {
   "cell_type": "code",
   "execution_count": 8,
   "id": "61ab8f1d",
   "metadata": {},
   "outputs": [
    {
     "name": "stdout",
     "output_type": "stream",
     "text": [
      "Klucze: dict_keys(['imie', 'miasto'])\n",
      "Wartości: dict_values([['Jan', 'Krzysztof'], ['Warszawa', 'Białystok']])\n"
     ]
    }
   ],
   "source": [
    "print(\"Klucze:\", slownik.keys()) # metoda .keys() zwraca wszystkie klucze słownika\n",
    "print(\"Wartości:\", slownik.values()) # metoda .values() zwraca wszystkie wartości słownika"
   ]
  },
  {
   "cell_type": "markdown",
   "id": "1d6fd4eb",
   "metadata": {},
   "source": [
    "### Ćwiczenie\n",
    "Dodaj do słownika klucz \"zawód\" z wartością [\"Analityk danych\", \"Zdun\"], a następnie usuń klucz \"miasto\""
   ]
  },
  {
   "cell_type": "code",
   "execution_count": 9,
   "id": "445175ea",
   "metadata": {},
   "outputs": [
    {
     "name": "stdout",
     "output_type": "stream",
     "text": [
      "{'imie': ['Jan', 'Krzysztof'], 'miasto': ['Warszawa', 'Białystok'], 'zawód': ['Analityk danych', 'Zdun']}\n",
      "{'imie': ['Jan', 'Krzysztof'], 'zawód': ['Analityk danych', 'Zdun']}\n"
     ]
    }
   ],
   "source": [
    "slownik['zawód'] =  [\"Analityk danych\", \"Zdun\"]\n",
    "print(slownik)\n",
    "del slownik['miasto']\n",
    "print(slownik)"
   ]
  },
  {
   "cell_type": "markdown",
   "id": "ad548566",
   "metadata": {},
   "source": [
    "## Instrukcja `if`-`else`"
   ]
  },
  {
   "cell_type": "code",
   "execution_count": 10,
   "id": "a6ccd5c2",
   "metadata": {},
   "outputs": [
    {
     "name": "stdout",
     "output_type": "stream",
     "text": [
      "Liczba nie jest dodatnia\n"
     ]
    }
   ],
   "source": [
    "liczba = -10\n",
    "if liczba > 0:\n",
    "    print(\"Liczba jest dodatnia\")\n",
    "else:\n",
    "    print(\"Liczba nie jest dodatnia\")"
   ]
  },
  {
   "cell_type": "markdown",
   "id": "333db660",
   "metadata": {},
   "source": [
    "### Ćwiczenie\n",
    "Napisz kod sprawdzający, czy podana liczba jest parzysta"
   ]
  },
  {
   "cell_type": "code",
   "execution_count": 11,
   "id": "d3847cf1",
   "metadata": {},
   "outputs": [
    {
     "name": "stdout",
     "output_type": "stream",
     "text": [
      "X jest parzysta\n"
     ]
    }
   ],
   "source": [
    "X = -10\n",
    "\n",
    "if X % 2 == 0:\n",
    "    print(\"X jest parzysta\")\n",
    "else:\n",
    "    print(\"X jest nieparzysta\")"
   ]
  },
  {
   "cell_type": "markdown",
   "id": "2c79de4a",
   "metadata": {},
   "source": [
    "## Instrukcja `if`-`elif`-`else`"
   ]
  },
  {
   "cell_type": "code",
   "execution_count": 12,
   "id": "8b3822bf",
   "metadata": {},
   "outputs": [
    {
     "name": "stdout",
     "output_type": "stream",
     "text": [
      "Pełnoletni\n"
     ]
    }
   ],
   "source": [
    "wiek = 19\n",
    "if wiek < 18:\n",
    "    print(\"Nieletni\")\n",
    "elif wiek == 18:\n",
    "    print(\"Dokładnie 18 lat\")\n",
    "else:\n",
    "    print(\"Pełnoletni\")"
   ]
  },
  {
   "cell_type": "markdown",
   "id": "1fb06d5b",
   "metadata": {},
   "source": [
    "### Ćwiczenie\n",
    "Napisz kod określający, czy liczba jest dodatnia, ujemna czy zerem"
   ]
  },
  {
   "cell_type": "code",
   "execution_count": 13,
   "id": "3cced6fc",
   "metadata": {},
   "outputs": [
    {
     "name": "stdout",
     "output_type": "stream",
     "text": [
      "X jest ujemny\n"
     ]
    }
   ],
   "source": [
    "X = -3.5\n",
    "\n",
    "if X > 0:\n",
    "    print(\"X jest dodatni\")\n",
    "elif X == 0:\n",
    "    print(\"X jest zerem\")\n",
    "else:\n",
    "    print(\"X jest ujemny\")"
   ]
  },
  {
   "cell_type": "markdown",
   "id": "5e0bd03a",
   "metadata": {},
   "source": [
    "## Pętla `for`"
   ]
  },
  {
   "cell_type": "code",
   "execution_count": 14,
   "id": "e6e70428",
   "metadata": {},
   "outputs": [
    {
     "name": "stdout",
     "output_type": "stream",
     "text": [
      "0\n",
      "1\n",
      "2\n",
      "3\n",
      "4\n",
      "5\n",
      "6\n",
      "7\n",
      "8\n",
      "9\n"
     ]
    }
   ],
   "source": [
    "for i in range(10):\n",
    "    print(i)"
   ]
  },
  {
   "cell_type": "code",
   "execution_count": 15,
   "id": "3816de12",
   "metadata": {},
   "outputs": [
    {
     "name": "stdout",
     "output_type": "stream",
     "text": [
      "Iteracja: 1\n",
      "Iteracja: 3\n",
      "Iteracja: 5\n",
      "Iteracja: 7\n",
      "Iteracja: 9\n"
     ]
    }
   ],
   "source": [
    "for i in range(1, 10, 2): # range(start, koniec, co ile zmiana)\n",
    "    print(\"Iteracja:\", i)"
   ]
  },
  {
   "cell_type": "code",
   "execution_count": 16,
   "id": "ed10a67d",
   "metadata": {},
   "outputs": [
    {
     "name": "stdout",
     "output_type": "stream",
     "text": [
      "liczba: 0\n",
      "liczba: 3\n",
      "liczba: 21\n",
      "liczba: 42\n"
     ]
    }
   ],
   "source": [
    "liczby = [0, 3, 21, 42]\n",
    "for liczba in liczby: # możliwe jest iterowanie po podstawowych strukturach\n",
    "    print(\"liczba:\", liczba)"
   ]
  },
  {
   "cell_type": "code",
   "execution_count": 17,
   "id": "26185126",
   "metadata": {},
   "outputs": [
    {
     "name": "stdout",
     "output_type": "stream",
     "text": [
      "liczba: 0\n",
      "liczba: 3\n",
      "liczba: 21\n",
      "liczba: 42\n"
     ]
    }
   ],
   "source": [
    "for liczba in [0, 3, 21, 42]: # możliwa jest iteracja bez deklaracji\n",
    "    print(\"liczba:\", liczba)"
   ]
  },
  {
   "cell_type": "code",
   "execution_count": 18,
   "id": "22b8dc99",
   "metadata": {},
   "outputs": [
    {
     "name": "stdout",
     "output_type": "stream",
     "text": [
      "Kolejna iteracja\n",
      "imie Jan\n",
      "Kolejna iteracja\n",
      "wiek 25\n",
      "Kolejna iteracja\n",
      "miasto Warszawa\n"
     ]
    }
   ],
   "source": [
    "slownik = {\"imie\": \"Jan\", \"wiek\": 25, \"miasto\": \"Warszawa\"}\n",
    "\n",
    "for klucz, wartosc in slownik.items():\n",
    "    print(\"Kolejna iteracja\")\n",
    "    print(klucz, wartosc)"
   ]
  },
  {
   "cell_type": "markdown",
   "id": "a1e17420",
   "metadata": {},
   "source": [
    "### Ćwiczenie: \n",
    "Użyj pętli `for` i `range`, aby wypisać liczby od 10 do 1 włącznie"
   ]
  },
  {
   "cell_type": "code",
   "execution_count": 19,
   "id": "4968dc37",
   "metadata": {},
   "outputs": [
    {
     "name": "stdout",
     "output_type": "stream",
     "text": [
      "10\n",
      "9\n",
      "8\n",
      "7\n",
      "6\n",
      "5\n",
      "4\n",
      "3\n",
      "2\n",
      "1\n"
     ]
    }
   ],
   "source": [
    "for x in range(10, 0, -1):\n",
    "    print(x)"
   ]
  },
  {
   "cell_type": "markdown",
   "id": "7cd5c792",
   "metadata": {},
   "source": [
    "## Pętla `while`"
   ]
  },
  {
   "cell_type": "code",
   "execution_count": 20,
   "id": "b9674374",
   "metadata": {},
   "outputs": [
    {
     "name": "stdout",
     "output_type": "stream",
     "text": [
      "x wynosi: 4\n",
      "x wynosi: 3\n",
      "x wynosi: 2\n",
      "x wynosi: 1\n",
      "x wynosi: 0\n",
      "Done!\n"
     ]
    }
   ],
   "source": [
    "x = 5\n",
    "while x > 0: # wykonuj do momentu aż x > 0\n",
    "    x -= 1\n",
    "    \n",
    "    print(\"x wynosi:\", x)\n",
    "    \n",
    "print(\"Done!\")   "
   ]
  },
  {
   "cell_type": "markdown",
   "id": "f2b33cb5",
   "metadata": {},
   "source": [
    "### Ćwiczenie\n",
    "Użyj pętli while, aby znaleźć pierwszą liczbę podzielną przez 7 większą niż 50"
   ]
  },
  {
   "cell_type": "code",
   "execution_count": 21,
   "id": "0d1b93b3",
   "metadata": {},
   "outputs": [
    {
     "name": "stdout",
     "output_type": "stream",
     "text": [
      "Pierwsza podzielna przez 7 większa niż 50 to 56\n"
     ]
    }
   ],
   "source": [
    "x = 50\n",
    "while x % 7 != 0:\n",
    "    x+=1\n",
    "\n",
    "print(\"Pierwsza podzielna przez 7 większa niż 50 to\", x)"
   ]
  },
  {
   "cell_type": "markdown",
   "id": "4d7dd607",
   "metadata": {},
   "source": [
    "## `break` i `continue`"
   ]
  },
  {
   "cell_type": "code",
   "execution_count": 22,
   "id": "f287fd8e",
   "metadata": {},
   "outputs": [
    {
     "name": "stdout",
     "output_type": "stream",
     "text": [
      "x wynosi: 4\n",
      "x wynosi: 3\n",
      "x wynosi: 1\n",
      "x wynosi: 0\n",
      "0\n"
     ]
    }
   ],
   "source": [
    "x = 5\n",
    "while x > 0:\n",
    "    x -= 1\n",
    "    if x == 2: \n",
    "        continue # Jeżeli x == 2 przejdź do następnej iteracji\n",
    "    print(\"x wynosi:\", x)\\\n",
    "\n",
    "print(x)"
   ]
  },
  {
   "cell_type": "code",
   "execution_count": 23,
   "id": "11d0338d",
   "metadata": {},
   "outputs": [
    {
     "name": "stdout",
     "output_type": "stream",
     "text": [
      "x wynosi: 4\n",
      "x wynosi: 3\n",
      "Po pętli x = 2\n"
     ]
    }
   ],
   "source": [
    "x = 5\n",
    "while x > 0:\n",
    "    x -= 1\n",
    "    if x == 2:\n",
    "        break  # Jeżeli x == 2 przestań wykonywać pętlę\n",
    "    print(\"x wynosi:\", x)\n",
    "\n",
    "print(\"Po pętli x =\",x)"
   ]
  },
  {
   "cell_type": "markdown",
   "id": "f68ad89b",
   "metadata": {},
   "source": [
    "### Ćwiczenie\n",
    "Zadeklaruj `x = 1`. Użyj pętli `while` by mnożyć i nadpisać `x` przez `2`. \n",
    "\n",
    "Wydrukuj każde `x` oprócz `x == 16`. \n",
    "\n",
    "Przerwij pętlę gdy `x > 100`"
   ]
  },
  {
   "cell_type": "code",
   "execution_count": 33,
   "id": "1aa94d55",
   "metadata": {},
   "outputs": [
    {
     "name": "stdout",
     "output_type": "stream",
     "text": [
      "2\n",
      "4\n",
      "8\n",
      "32\n",
      "64\n"
     ]
    }
   ],
   "source": [
    "x = 1\n",
    "while True:\n",
    "    x *= 2\n",
    "    if x == 16:\n",
    "        continue\n",
    "    elif x > 100:\n",
    "        break\n",
    "    print(x)"
   ]
  },
  {
   "cell_type": "markdown",
   "id": "b47253f8",
   "metadata": {},
   "source": [
    "## Funkcje w Python\n"
   ]
  },
  {
   "cell_type": "code",
   "execution_count": 34,
   "id": "d7cc1987",
   "metadata": {},
   "outputs": [
    {
     "name": "stdout",
     "output_type": "stream",
     "text": [
      "Witaj na 21 zajęciach Junior Data Analyst!\n",
      "Witaj na 21 zajęciach Junior Data Analyst!\n",
      "Witaj na 21 zajęciach Junior Data Analyst!\n"
     ]
    }
   ],
   "source": [
    "def przywitanie(): # Deklaracja funkcji\n",
    "    print(\"Witaj na 21 zajęciach Junior Data Analyst!\") # Co funkcja robi\n",
    "\n",
    "przywitanie()\n",
    "przywitanie()\n",
    "przywitanie()"
   ]
  },
  {
   "cell_type": "markdown",
   "id": "63ea0b7c",
   "metadata": {},
   "source": [
    "### Ćwiczenie: \n",
    "Napisz funkcję, która wypisuje \"Hello, World!\""
   ]
  },
  {
   "cell_type": "code",
   "execution_count": 36,
   "id": "d2c29e4d",
   "metadata": {},
   "outputs": [
    {
     "name": "stdout",
     "output_type": "stream",
     "text": [
      "Hello World!\n"
     ]
    }
   ],
   "source": [
    "def hello():\n",
    "    print(\"Hello World!\")\n",
    "\n",
    "hello()"
   ]
  },
  {
   "cell_type": "markdown",
   "id": "7a6b6e92",
   "metadata": {},
   "source": [
    "## Argumenty w funkcji i zwracanie wartości funkcji\n"
   ]
  },
  {
   "cell_type": "code",
   "execution_count": 37,
   "id": "6de74152",
   "metadata": {},
   "outputs": [
    {
     "name": "stdout",
     "output_type": "stream",
     "text": [
      "Kwadrat 4 to: 16\n"
     ]
    }
   ],
   "source": [
    "# Zwracanie wartości funkcji\n",
    "def kwadrat(x):\n",
    "    return x * x\n",
    "\n",
    "kwadrat_4 = kwadrat(4)\n",
    "\n",
    "print(\"Kwadrat 4 to:\", kwadrat_4)"
   ]
  },
  {
   "cell_type": "code",
   "execution_count": 42,
   "id": "cf58aefc",
   "metadata": {},
   "outputs": [
    {
     "name": "stdout",
     "output_type": "stream",
     "text": [
      "Wynik dodawania: 15\n"
     ]
    },
    {
     "data": {
      "text/plain": [
       "-1"
      ]
     },
     "execution_count": 42,
     "metadata": {},
     "output_type": "execute_result"
    }
   ],
   "source": [
    "# Argumenty w funkcji\n",
    "def dodaj(a, b):\n",
    "    return a + b\n",
    "\n",
    "wynik = dodaj(a = 5, b = 10)\n",
    "print(\"Wynik dodawania:\", wynik)\n"
   ]
  },
  {
   "cell_type": "markdown",
   "id": "e1959788",
   "metadata": {},
   "source": [
    "### Ćwiczenie: \n",
    "Napisz funkcję zwracającą większą z dwóch liczb"
   ]
  },
  {
   "cell_type": "code",
   "execution_count": 45,
   "id": "3b66f6a9",
   "metadata": {},
   "outputs": [
    {
     "name": "stdout",
     "output_type": "stream",
     "text": [
      "równe\n",
      "takie same\n"
     ]
    }
   ],
   "source": [
    "def wieksza(a, b):\n",
    "    if a > b:\n",
    "        return a\n",
    "    elif a < b:\n",
    "        return b\n",
    "    else:\n",
    "        print(\"równe\")\n",
    "        return \"takie same\"\n",
    "\n",
    "print(wieksza(10,10))"
   ]
  },
  {
   "cell_type": "markdown",
   "id": "d787d582",
   "metadata": {},
   "source": [
    "## List comprehensions"
   ]
  },
  {
   "cell_type": "code",
   "execution_count": 49,
   "id": "1040b905-83d4-4604-979d-c77de6878efe",
   "metadata": {},
   "outputs": [
    {
     "data": {
      "text/plain": [
       "range(0, 100)"
      ]
     },
     "execution_count": 49,
     "metadata": {},
     "output_type": "execute_result"
    }
   ],
   "source": [
    "range(100)"
   ]
  },
  {
   "cell_type": "code",
   "execution_count": 53,
   "id": "c2a162e1",
   "metadata": {},
   "outputs": [
    {
     "name": "stdout",
     "output_type": "stream",
     "text": [
      "Liczby 0 - 99: [0, 1, 2, 3, 4, 5, 6, 7, 8, 9, 10, 11, 12, 13, 14, 15, 16, 17, 18, 19, 20, 21, 22, 23, 24, 25, 26, 27, 28, 29, 30, 31, 32, 33, 34, 35, 36, 37, 38, 39, 40, 41, 42, 43, 44, 45, 46, 47, 48, 49, 50, 51, 52, 53, 54, 55, 56, 57, 58, 59, 60, 61, 62, 63, 64, 65, 66, 67, 68, 69, 70, 71, 72, 73, 74, 75, 76, 77, 78, 79, 80, 81, 82, 83, 84, 85, 86, 87, 88, 89, 90, 91, 92, 93, 94, 95, 96, 97, 98, 99]\n",
      "Liczby 0 - 99: [0, 1, 2, 3, 4, 5, 6, 7, 8, 9, 10, 11, 12, 13, 14, 15, 16, 17, 18, 19, 20, 21, 22, 23, 24, 25, 26, 27, 28, 29, 30, 31, 32, 33, 34, 35, 36, 37, 38, 39, 40, 41, 42, 43, 44, 45, 46, 47, 48, 49, 50, 51, 52, 53, 54, 55, 56, 57, 58, 59, 60, 61, 62, 63, 64, 65, 66, 67, 68, 69, 70, 71, 72, 73, 74, 75, 76, 77, 78, 79, 80, 81, 82, 83, 84, 85, 86, 87, 88, 89, 90, 91, 92, 93, 94, 95, 96, 97, 98, 99]\n"
     ]
    }
   ],
   "source": [
    "liczby = [x for x in range(100)] # liczby od 0 do 10 wyłącznie\n",
    "print(\"Liczby 0 - 99:\", liczby)\n",
    "\n",
    "liczby_alt = []\n",
    "for x in range(100):\n",
    "    liczby_alt.append(x)\n",
    "    \n",
    "print(\"Liczby 0 - 99:\", liczby_alt)\n",
    "    \n"
   ]
  },
  {
   "cell_type": "code",
   "execution_count": 56,
   "id": "b32708ac-948c-445f-b2a6-64ee8dde082c",
   "metadata": {},
   "outputs": [
    {
     "name": "stdout",
     "output_type": "stream",
     "text": [
      "kwadraty liczb parzystych 0-9: [0, 4, 16, 36, 64]\n",
      "kwadraty liczb parzystych 0-9: [0, 4, 16, 36, 64]\n"
     ]
    }
   ],
   "source": [
    "liczby = [x**2 for x in range(10) if x % 2 == 0] # kwadraty liczb parzystych od 0 do 10 wyłącznie \n",
    "print(\"kwadraty liczb parzystych 0-9:\", liczby)\n",
    "\n",
    "liczby_alt = []\n",
    "for x in range(10):\n",
    "    if x % 2 == 0:\n",
    "        liczby_alt.append(x**2)\n",
    "\n",
    "print(\"kwadraty liczb parzystych 0-9:\", liczby_alt)"
   ]
  },
  {
   "cell_type": "markdown",
   "id": "1bdce1bd",
   "metadata": {},
   "source": [
    "### Ćwiczenie: \n",
    "Użyj list comprehension, aby stworzyć listę liczb podzielnych przez 3 z zakresu 1-30 włącznie"
   ]
  },
  {
   "cell_type": "code",
   "execution_count": 59,
   "id": "ede1dad5",
   "metadata": {},
   "outputs": [
    {
     "name": "stdout",
     "output_type": "stream",
     "text": [
      "[3, 6, 9, 12, 15, 18, 21, 24, 27, 30]\n"
     ]
    }
   ],
   "source": [
    "lista = [x for x in range(1, 31, 1) if x % 3 == 0]\n",
    "print(lista)"
   ]
  },
  {
   "cell_type": "code",
   "execution_count": null,
   "id": "4a59b3ad",
   "metadata": {},
   "outputs": [],
   "source": []
  }
 ],
 "metadata": {
  "kernelspec": {
   "display_name": "Python 3 (ipykernel)",
   "language": "python",
   "name": "python3"
  },
  "language_info": {
   "codemirror_mode": {
    "name": "ipython",
    "version": 3
   },
   "file_extension": ".py",
   "mimetype": "text/x-python",
   "name": "python",
   "nbconvert_exporter": "python",
   "pygments_lexer": "ipython3",
   "version": "3.12.7"
  }
 },
 "nbformat": 4,
 "nbformat_minor": 5
}
