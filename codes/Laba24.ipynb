{
 "cells": [
  {
   "cell_type": "markdown",
   "id": "18e81243-52c8-41d9-9bbf-0ce1e2a2de5b",
   "metadata": {},
   "source": [
    "# Lekcja 24: Wizualizacja danych w Pythonie"
   ]
  },
  {
   "cell_type": "code",
   "execution_count": null,
   "id": "98a70b9f-f78c-4880-b957-c7ec30ea3020",
   "metadata": {},
   "outputs": [],
   "source": [
    "!pip install seaborn"
   ]
  },
  {
   "cell_type": "code",
   "execution_count": null,
   "id": "51821e72-2d67-4c8c-b92b-592cf0eba067",
   "metadata": {},
   "outputs": [],
   "source": [
    "import pandas as pd\n",
    "import matplotlib.pyplot as plt\n",
    "import seaborn as sns"
   ]
  },
  {
   "cell_type": "code",
   "execution_count": null,
   "id": "669e296b-1331-4cd7-be66-5dd53284a6da",
   "metadata": {},
   "outputs": [],
   "source": [
    "# Wczytanie przykładowych zbiorów danych\n",
    "iris = sns.load_dataset(\"iris\")  # Klasyczny zbiór dotyczący kwiatów irysów\n",
    "titanic = sns.load_dataset(\"titanic\")  # Dane pasażerów Titanica\n",
    "tips = sns.load_dataset(\"tips\")  # Dane dotyczące napiwków w restauracji"
   ]
  },
  {
   "cell_type": "markdown",
   "id": "1cc3341e-1613-4f3f-9069-5e1ee31380f2",
   "metadata": {},
   "source": [
    "## Wykresy liniowe"
   ]
  },
  {
   "cell_type": "code",
   "execution_count": null,
   "id": "49907c43-628c-4538-b805-94cede430894",
   "metadata": {},
   "outputs": [],
   "source": [
    "help(sns.lineplot)"
   ]
  },
  {
   "cell_type": "code",
   "execution_count": null,
   "id": "e2b95ed5",
   "metadata": {},
   "outputs": [],
   "source": [
    "iris['species'].value_counts()"
   ]
  },
  {
   "cell_type": "code",
   "execution_count": null,
   "id": "44b27f55",
   "metadata": {},
   "outputs": [],
   "source": [
    "# Przykład\n",
    "plt.figure(figsize=(8,5))\n",
    "sns.lineplot(x=iris['sepal_length'], y=iris['sepal_width'], ci=None)\n",
    "plt.title(\"Wykres liniowy - długość a szerokość działki kwiatu\")\n",
    "plt.show()"
   ]
  },
  {
   "cell_type": "code",
   "execution_count": null,
   "id": "ed96bb22-fe0b-47c9-8242-950748f2c245",
   "metadata": {},
   "outputs": [],
   "source": [
    "# Przykład\n",
    "plt.figure(figsize=(8,5))\n",
    "sns.lineplot(x=iris['sepal_length'], y=iris['sepal_width'], hue=iris['species'], ci=None)\n",
    "plt.title(\"Wykres liniowy - długość a szerokość działki kwiatu\")\n",
    "plt.show()\n",
    "\n",
    "# Alternatywny sposób\n",
    "plt.figure(figsize=(8,5))\n",
    "sns.lineplot(x='sepal_length', y='sepal_width', hue = 'species', data=iris, ci=None)\n",
    "plt.title(\"Wykres liniowy - długość a szerokość działki kwiatu (alternatywnie)\")\n",
    "plt.show()"
   ]
  },
  {
   "cell_type": "markdown",
   "id": "fb37f630-1f1b-4bef-acce-2d3a27391c60",
   "metadata": {},
   "source": [
    "### Ćwiczenie: \n",
    "Wykonaj wykres liniowy dla zbioru 'tips', pokazujący zależność między dniem tygodnia a średnią wysokością napiwku, używając obu sposobów."
   ]
  },
  {
   "cell_type": "code",
   "execution_count": null,
   "id": "76679b55",
   "metadata": {},
   "outputs": [],
   "source": [
    "tips"
   ]
  },
  {
   "cell_type": "code",
   "execution_count": null,
   "id": "0028134f-8e23-42c3-85de-db2dc7dd1ae2",
   "metadata": {},
   "outputs": [],
   "source": []
  },
  {
   "cell_type": "markdown",
   "id": "edd684b3-4e97-430c-b44a-43cb7198c4d8",
   "metadata": {},
   "source": [
    "## Wykresy punktowe\n"
   ]
  },
  {
   "cell_type": "code",
   "execution_count": null,
   "id": "f6350b41-f852-4596-a08f-979bcd8afa4a",
   "metadata": {},
   "outputs": [],
   "source": [
    "# Przykład\n",
    "plt.figure(figsize=(8,5))\n",
    "sns.scatterplot(x=iris['sepal_length'], y=iris['sepal_width'], hue=iris['species'])\n",
    "plt.title(\"Wykres punktowy - długość a szerokość działki kwiatu\")\n",
    "plt.show()\n",
    "\n",
    "# Alternatywny sposób\n",
    "plt.figure(figsize=(8,5))\n",
    "sns.scatterplot(x='sepal_length', y='sepal_width', hue='species', data=iris)\n",
    "plt.title(\"Wykres punktowy - długość a szerokość działki kwiatu (alternatywnie)\")\n",
    "plt.show()\n"
   ]
  },
  {
   "cell_type": "markdown",
   "id": "feaa123b-b1bb-4bf3-9b5a-7f1a2aebbcd4",
   "metadata": {},
   "source": [
    "### Ćwiczenie: \n",
    "Stwórz wykres punktowy dla zbioru 'tips', pokazujący zależność między 'total_bill' a 'tip', z podziałem na płeć, używając obu sposobów.\n",
    "\n"
   ]
  },
  {
   "cell_type": "code",
   "execution_count": null,
   "id": "e7f37dbc-d908-48bf-913a-0b8fe11498b4",
   "metadata": {},
   "outputs": [],
   "source": []
  },
  {
   "cell_type": "markdown",
   "id": "c4e2d4cf-4dc2-471e-83b8-695b45bb4934",
   "metadata": {},
   "source": [
    "## Wykresy słupkowe"
   ]
  },
  {
   "cell_type": "code",
   "execution_count": null,
   "id": "5d6f18b7",
   "metadata": {},
   "outputs": [],
   "source": [
    "titanic"
   ]
  },
  {
   "cell_type": "code",
   "execution_count": null,
   "id": "1f1112d3",
   "metadata": {},
   "outputs": [],
   "source": [
    "titanic.groupby('sex')[['survived']].sum()"
   ]
  },
  {
   "cell_type": "code",
   "execution_count": null,
   "id": "878beba5-2963-4ef5-ac55-871cd50bb931",
   "metadata": {},
   "outputs": [],
   "source": [
    "# Przykład\n",
    "plt.figure(figsize=(8,5))\n",
    "sns.barplot(x=titanic['sex'], y=titanic['survived'], estimator='mean')\n",
    "plt.title(\"Średnia przeżywalność według płci\")\n",
    "plt.show()\n"
   ]
  },
  {
   "cell_type": "markdown",
   "id": "703f90eb-5081-48f6-b756-1c947f8f31a7",
   "metadata": {},
   "source": [
    "### Ćwiczenie: \n",
    "Wykonaj wykres słupkowy pokazujący średnie napiwki w zależności od dnia tygodnia.\n"
   ]
  },
  {
   "cell_type": "code",
   "execution_count": null,
   "id": "7a917e5a",
   "metadata": {},
   "outputs": [],
   "source": [
    "tips"
   ]
  },
  {
   "cell_type": "code",
   "execution_count": null,
   "id": "45f2b715",
   "metadata": {},
   "outputs": [],
   "source": []
  },
  {
   "cell_type": "markdown",
   "id": "45ce00ab-d584-4804-be78-a3de8468c676",
   "metadata": {},
   "source": [
    "## Wykresy kołowe"
   ]
  },
  {
   "cell_type": "code",
   "execution_count": null,
   "id": "6453bcf8",
   "metadata": {},
   "outputs": [],
   "source": [
    "survival_counts.index"
   ]
  },
  {
   "cell_type": "code",
   "execution_count": null,
   "id": "bc0fb08a-6788-4ac9-a294-6e0a2e4ee138",
   "metadata": {},
   "outputs": [],
   "source": [
    "# Przykład\n",
    "survival_counts = titanic['class'].value_counts()\n",
    "plt.figure(figsize=(6,6))\n",
    "plt.pie(survival_counts, labels=survival_counts.index, autopct='%1.1f%%', colors=['lightblue', 'lightcoral', 'lightgreen'])\n",
    "plt.title(\"Rozkład pasażerów według klasy\")\n",
    "plt.show()"
   ]
  },
  {
   "cell_type": "markdown",
   "id": "f06b679b-b15f-444b-9777-1907a78618b1",
   "metadata": {},
   "source": [
    "### Ćwiczenie: \n",
    "Stwórz wykres kołowy pokazujący rozkład dni tygodnia w zbiorze 'tips'."
   ]
  },
  {
   "cell_type": "code",
   "execution_count": null,
   "id": "9100e094-0a49-410f-9d66-aee8a00eeb60",
   "metadata": {},
   "outputs": [],
   "source": []
  },
  {
   "cell_type": "markdown",
   "id": "8e32e8d4-5a9d-40c0-a24d-7dbb626a1439",
   "metadata": {},
   "source": [
    "## Boxploty"
   ]
  },
  {
   "cell_type": "code",
   "execution_count": null,
   "id": "9d863d6e-cb42-4374-a40d-f9ebc262e4b5",
   "metadata": {},
   "outputs": [],
   "source": [
    "# Przykład\n",
    "plt.figure(figsize=(8,5))\n",
    "sns.boxplot(x=iris['species'], y=iris['sepal_length'])\n",
    "plt.title(\"Rozkład długości działki kwiatu w zależności od gatunku\")\n",
    "plt.show()"
   ]
  },
  {
   "cell_type": "markdown",
   "id": "653fe85c-9c85-4386-a756-badbc818d4d2",
   "metadata": {},
   "source": [
    "### Ćwiczenie: \n",
    "Stwórz wykres pudełkowy dla zbioru 'tips', porównujący napiwki w zależności od płci."
   ]
  },
  {
   "cell_type": "code",
   "execution_count": null,
   "id": "fae5d0ae-7054-4995-b834-feb336a837ba",
   "metadata": {},
   "outputs": [],
   "source": []
  },
  {
   "cell_type": "markdown",
   "id": "6a3e7823-30bb-4ed4-acd4-6896b6a2e429",
   "metadata": {},
   "source": [
    "## Dostosowywanie wykresów"
   ]
  },
  {
   "cell_type": "code",
   "execution_count": null,
   "id": "020d917d",
   "metadata": {},
   "outputs": [],
   "source": [
    "help(sns.lineplot)"
   ]
  },
  {
   "cell_type": "code",
   "execution_count": null,
   "id": "d8563023",
   "metadata": {},
   "outputs": [],
   "source": [
    "help(plt.plot)"
   ]
  },
  {
   "cell_type": "code",
   "execution_count": null,
   "id": "97ae684d",
   "metadata": {},
   "outputs": [],
   "source": [
    "linestyles = [\"solid\", \"dotted\", \"dashed\", \"dashdot\"]\n",
    "markers = ['x, y']"
   ]
  },
  {
   "cell_type": "code",
   "execution_count": null,
   "id": "1d16247b-f029-405c-9aaf-25d55f0ce4b9",
   "metadata": {},
   "outputs": [],
   "source": [
    "# Przykład - zmiana stylu i dodanie siatki\n",
    "sns.set_style(\"darkgrid\")\n",
    "plt.figure(figsize=(8,5))\n",
    "sns.lineplot(x=iris['sepal_length'], y=iris['sepal_width'], color='red', \n",
    "             linestyle='solid', marker='o', markeredgecolor = 'red', markerfacecolor = 'blue')\n",
    "plt.title(\"Dostosowany wykres liniowy\")\n",
    "plt.xlabel(\"Długość działki kwiatu\")\n",
    "plt.ylabel(\"Szerokość działki kwiatu\")\n",
    "plt.show()"
   ]
  },
  {
   "cell_type": "markdown",
   "id": "c453b43f-3f9c-4a71-8e66-d7542f333a16",
   "metadata": {},
   "source": [
    "### Ćwiczenie:\n",
    " Stwórz wykres słupkowy ze zmienionymi kolorami i tytułem dla średnich napiwków w 'tips' w zależności od dnia tygodnia."
   ]
  },
  {
   "cell_type": "code",
   "execution_count": null,
   "id": "02b03037-f502-4c44-898b-dbc3ddf413eb",
   "metadata": {},
   "outputs": [],
   "source": []
  }
 ],
 "metadata": {
  "kernelspec": {
   "display_name": "Python 3 (ipykernel)",
   "language": "python",
   "name": "python3"
  },
  "language_info": {
   "codemirror_mode": {
    "name": "ipython",
    "version": 3
   },
   "file_extension": ".py",
   "mimetype": "text/x-python",
   "name": "python",
   "nbconvert_exporter": "python",
   "pygments_lexer": "ipython3",
   "version": "3.12.7"
  }
 },
 "nbformat": 4,
 "nbformat_minor": 5
}
